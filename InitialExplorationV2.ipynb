{
 "cells": [
  {
   "cell_type": "markdown",
   "id": "d011ce6b-9adf-4106-b18c-1c715f094a36",
   "metadata": {},
   "source": [
    "# Exploratory Data Analysis\n",
    "\n",
    "We will be doing the following in this section\n",
    "\n",
    "## Step 0: Getting started  \n",
    "- Import libraries  \n",
    "- Import dataset  \n",
    "\n",
    "## Step 1: Data visualisation  \n",
    "- Exploring Scope  \n",
    "- Choosing variables  \n",
    "- Visualizing individual variables  \n",
    "- Visualizing variable pairs  \n",
    "- Visualizing as a whole\n",
    "  \n",
    "## Step 2: Data analysis\n",
    "- Correlation coeficients\n",
    "- Reverse-engineering rank"
   ]
  },
  {
   "cell_type": "markdown",
   "id": "6f479c8f-9422-4fcc-b985-e2ddd6f5c111",
   "metadata": {
    "jp-MarkdownHeadingCollapsed": true
   },
   "source": [
    "## Step 0: Getting Started\n",
    "\n",
    "Let us begin by importing the essential Python Libraries.\n",
    "\n",
    "> NumPy : Library for Numeric Computations in Python  \n",
    "> Pandas : Library for Data Acquisition and Preparation  \n",
    "> Matplotlib : Low-level library for Data Visualization  \n",
    "> Seaborn : Higher-level library for Data Visualization  "
   ]
  },
  {
   "cell_type": "code",
   "execution_count": null,
   "id": "eb2e85ae-679d-49ae-8e67-7fb1fe6455fb",
   "metadata": {},
   "outputs": [],
   "source": [
    "# Basic Libraries\n",
    "import numpy as np\n",
    "import pandas as pd\n",
    "import seaborn as sb\n",
    "import matplotlib.pyplot as plt # we only need pyplot\n",
    "sb.set() # set the default Seaborn style for graphics"
   ]
  },
  {
   "cell_type": "markdown",
   "id": "d7c73b81-4b35-4c06-8c83-679d07c8bdee",
   "metadata": {},
   "source": [
    "### Import the Dataset (UserList)\n",
    "\n",
    "The dataset is in CSV format; hence we use the read_csv function from Pandas.  \n",
    "Immediately after importing, take a quick look at the data using the head function."
   ]
  },
  {
   "cell_type": "code",
   "execution_count": null,
   "id": "b3888f00-e299-4100-9cdf-d25eb28fa306",
   "metadata": {},
   "outputs": [],
   "source": [
    "userlist = pd.read_csv('DataSets/Cleaned data/outV1.csv')\n",
    "userlist.head()"
   ]
  },
  {
   "cell_type": "markdown",
   "id": "bd5a7e69-6763-42dc-bfec-1f7ebb1bdead",
   "metadata": {},
   "source": [
    "## Step 1.1: Exploring scope\n",
    "\n",
    "We see that some columns are categorical, while some are numerical.  \n",
    "Let us figure out what outputs are in the categorical columns, and what range of values there are in the numerical ones."
   ]
  },
  {
   "cell_type": "markdown",
   "id": "fb83ed19-6156-4973-86f7-6b00d825b0f8",
   "metadata": {
    "jp-MarkdownHeadingCollapsed": true
   },
   "source": [
    "### Printing out possible values of categorical variables\n",
    "\n",
    "We are interested in finding out how many types of values there are for the following columns\n",
    "1. Type\n",
    "2. Source\n",
    "3. Status\n",
    "4. Rating"
   ]
  },
  {
   "cell_type": "code",
   "execution_count": null,
   "id": "66416e34-6906-4e1f-8eec-f3670f67e940",
   "metadata": {},
   "outputs": [],
   "source": [
    "# Filtering the Type column\n",
    "type_unique_values = userlist['type'].unique()\n",
    "\n",
    "# Print the unique values for Type\n",
    "print(\"Unique values for Type:\")\n",
    "for value in type_unique_values:\n",
    "    print(value)\n",
    "print(\"\\n\")\n",
    "\n",
    "# Filtering the Source column\n",
    "source_unique_values = userlist['source'].unique()\n",
    "\n",
    "# Print the unique values for Source\n",
    "print(\"Unique values for source:\")\n",
    "for value in source_unique_values:\n",
    "    print(value)\n",
    "print(\"\\n\")\n",
    "\n",
    "# Filtering the Status column\n",
    "status_unique_values = userlist['status'].unique()\n",
    "\n",
    "# Print the unique values for Status\n",
    "print(\"Unique values for status:\")\n",
    "for value in status_unique_values:\n",
    "    print(value)\n",
    "print(\"\\n\")\n",
    "\n",
    "# Filtering the Rating column\n",
    "rating_unique_values = userlist['rating'].unique()\n",
    "\n",
    "# Print the unique values for Rating\n",
    "print(\"Unique values for rating:\")\n",
    "for value in rating_unique_values:\n",
    "    print(value)\n",
    "print(\"\\n\")\n",
    "\n",
    "# Filtering the Studio column\n",
    "studio_unique_values = userlist['studio'].unique()\n",
    "\n",
    "# Print the unique values for Studio\n",
    "print(\"Unique values for studio:\")\n",
    "for value in studio_unique_values:\n",
    "    print(value)\n",
    "print(\"\\n\")"
   ]
  },
  {
   "cell_type": "markdown",
   "id": "fc98ca04-d973-443b-be72-f128f6c96dbb",
   "metadata": {},
   "source": [
    "### Printing out range of values for numerical variables\n",
    "\n",
    "We are interested in finding out the minimum and maximum values for the following columns\n",
    "1. Episodes\n",
    "2. Duration\n",
    "3. Score\n",
    "4. Score_by\n",
    "5. Rank\n",
    "6. Popularity\n",
    "7. Members\n",
    "8. Favourites"
   ]
  },
  {
   "cell_type": "code",
   "execution_count": null,
   "id": "66f8f753-74e3-4d66-ab86-c035bf5595d3",
   "metadata": {},
   "outputs": [],
   "source": [
    "# Filtering the Episodes column\n",
    "episode_minimum_value = userlist['episodes'].min()\n",
    "episode_maximum_value = userlist['episodes'].max()\n",
    "\n",
    "print(\"Minimum value in for episode:\", episode_minimum_value)\n",
    "print(\"Maximum value in for episode:\", episode_maximum_value)\n",
    "print(\"\\n\")\n",
    "\n",
    "# Filtering the Duration column\n",
    "duration_minimum_value = userlist['duration'].min()\n",
    "duration_maximum_value = userlist['duration'].max()\n",
    "\n",
    "print(\"Minimum value in for duration:\", duration_minimum_value)\n",
    "print(\"Maximum value in for duration:\", duration_maximum_value)\n",
    "print(\"\\n\")\n",
    "\n",
    "# Filtering the Score column\n",
    "score_minimum_value = userlist['score'].min()\n",
    "score_maximum_value = userlist['score'].max()\n",
    "\n",
    "print(\"Minimum value in for score:\", score_minimum_value)\n",
    "print(\"Maximum value in for score:\", score_maximum_value)\n",
    "print(\"\\n\")\n",
    "\n",
    "# Filtering the Rank column\n",
    "rank_minimum_value = userlist['rank'].min()\n",
    "rank_maximum_value = userlist['rank'].max()\n",
    "\n",
    "print(\"Minimum value in for rank:\", rank_minimum_value)\n",
    "print(\"Maximum value in for rank:\", rank_maximum_value)\n",
    "print(\"\\n\")\n",
    "\n",
    "# Filtering the Popularity column\n",
    "popularity_minimum_value = userlist['popularity'].min()\n",
    "popularity_maximum_value = userlist['popularity'].max()\n",
    "\n",
    "print(\"Minimum value in for popularity:\", popularity_minimum_value)\n",
    "print(\"Maximum value in for popularity:\", popularity_maximum_value)\n",
    "print(\"\\n\")\n",
    "\n",
    "# Filtering the Members column\n",
    "member_minimum_value = userlist['members'].min()\n",
    "member_maximum_value = userlist['members'].max()\n",
    "\n",
    "print(\"Minimum value in for member:\", member_minimum_value)\n",
    "print(\"Maximum value in for member:\", member_maximum_value)\n",
    "print(\"\\n\")\n",
    "\n",
    "# Filtering the Favourites column\n",
    "favourite_minimum_value = userlist['favorites'].min()\n",
    "favourite_maximum_value = userlist['favorites'].max()\n",
    "\n",
    "print(\"Minimum value in for favourite:\", favourite_minimum_value)\n",
    "print(\"Maximum value in for favourite:\", favourite_maximum_value)"
   ]
  },
  {
   "cell_type": "markdown",
   "id": "0b525eea-831c-4af0-9310-c221770c17a5",
   "metadata": {},
   "source": [
    "urited a particular anime\r\n"
   ]
  },
  {
   "cell_type": "code",
   "execution_count": null,
   "id": "bb752194-8c57-4b63-ad06-e460daf22afd",
   "metadata": {},
   "outputs": [],
   "source": []
  }
 ],
 "metadata": {
  "kernelspec": {
   "display_name": "Python 3 (ipykernel)",
   "language": "python",
   "name": "python3"
  },
  "language_info": {
   "codemirror_mode": {
    "name": "ipython",
    "version": 3
   },
   "file_extension": ".py",
   "mimetype": "text/x-python",
   "name": "python",
   "nbconvert_exporter": "python",
   "pygments_lexer": "ipython3",
   "version": "3.11.7"
  }
 },
 "nbformat": 4,
 "nbformat_minor": 5
}
