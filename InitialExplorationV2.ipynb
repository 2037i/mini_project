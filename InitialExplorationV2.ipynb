{
 "cells": [
  {
   "cell_type": "markdown",
   "id": "d011ce6b-9adf-4106-b18c-1c715f094a36",
   "metadata": {},
   "source": [
    "# Exploratory Data Analysis\n",
    "\n",
    "We will be doing the following in this section\n",
    "\n",
    "## Step 0: Getting started  \n",
    "- Import libraries  \n",
    "- Import dataset  \n",
    "\n",
    "## Step 1: Data visualisation  \n",
    "- Exploring Scope  \n",
    "- Choosing variables  \n",
    "- Visualizing individual variables  \n",
    "- Visualizing variable pairs  \n",
    "- Visualizing as a whole\n",
    "  \n",
    "## Step 2: Data analysis\n",
    "- Correlation coeficients\n",
    "- Reverse-engineering rank"
   ]
  },
  {
   "cell_type": "markdown",
   "id": "6f479c8f-9422-4fcc-b985-e2ddd6f5c111",
   "metadata": {
    "tags": []
   },
   "source": [
    "## Step 0: Getting Started\n",
    "\n",
    "Let us begin by importing the essential Python Libraries.\n",
    "\n",
    "> NumPy : Library for Numeric Computations in Python  \n",
    "> Pandas : Library for Data Acquisition and Preparation  \n",
    "> Matplotlib : Low-level library for Data Visualization  \n",
    "> Seaborn : Higher-level library for Data Visualization  "
   ]
  },
  {
   "cell_type": "code",
   "execution_count": 7,
   "id": "eb2e85ae-679d-49ae-8e67-7fb1fe6455fb",
   "metadata": {},
   "outputs": [],
   "source": [
    "# Basic Libraries\n",
    "import numpy as np\n",
    "import pandas as pd\n",
    "import seaborn as sb\n",
    "import matplotlib.pyplot as plt # we only need pyplot\n",
    "sb.set() # set the default Seaborn style for graphics"
   ]
  },
  {
   "cell_type": "markdown",
   "id": "d7c73b81-4b35-4c06-8c83-679d07c8bdee",
   "metadata": {},
   "source": [
    "### Import the Dataset (UserList)\n",
    "\n",
    "The dataset is in CSV format; hence we use the read_csv function from Pandas.  \n",
    "Immediately after importing, take a quick look at the data using the head function."
   ]
  },
  {
   "cell_type": "code",
   "execution_count": 8,
   "id": "b3888f00-e299-4100-9cdf-d25eb28fa306",
   "metadata": {},
   "outputs": [
    {
     "data": {
      "text/html": [
       "<div>\n",
       "<style scoped>\n",
       "    .dataframe tbody tr th:only-of-type {\n",
       "        vertical-align: middle;\n",
       "    }\n",
       "\n",
       "    .dataframe tbody tr th {\n",
       "        vertical-align: top;\n",
       "    }\n",
       "\n",
       "    .dataframe thead th {\n",
       "        text-align: right;\n",
       "    }\n",
       "</style>\n",
       "<table border=\"1\" class=\"dataframe\">\n",
       "  <thead>\n",
       "    <tr style=\"text-align: right;\">\n",
       "      <th></th>\n",
       "      <th>title</th>\n",
       "      <th>type</th>\n",
       "      <th>source</th>\n",
       "      <th>episodes</th>\n",
       "      <th>status</th>\n",
       "      <th>airing</th>\n",
       "      <th>aired</th>\n",
       "      <th>duration</th>\n",
       "      <th>rating</th>\n",
       "      <th>score</th>\n",
       "      <th>...</th>\n",
       "      <th>Shoujo</th>\n",
       "      <th>Shounen</th>\n",
       "      <th>Slice of Life</th>\n",
       "      <th>Space</th>\n",
       "      <th>Sports</th>\n",
       "      <th>Super Power</th>\n",
       "      <th>Supernatural</th>\n",
       "      <th>Thriller</th>\n",
       "      <th>Vampire</th>\n",
       "      <th>Yaoi</th>\n",
       "    </tr>\n",
       "  </thead>\n",
       "  <tbody>\n",
       "    <tr>\n",
       "      <th>0</th>\n",
       "      <td>Inu x Boku SS</td>\n",
       "      <td>TV</td>\n",
       "      <td>Manga</td>\n",
       "      <td>12</td>\n",
       "      <td>Finished Airing</td>\n",
       "      <td>False</td>\n",
       "      <td>{'from': '2012-01-13', 'to': '2012-03-30'}</td>\n",
       "      <td>24 min. per ep.</td>\n",
       "      <td>PG-13 - Teens 13 or older</td>\n",
       "      <td>7.63</td>\n",
       "      <td>...</td>\n",
       "      <td>0</td>\n",
       "      <td>0</td>\n",
       "      <td>0</td>\n",
       "      <td>0</td>\n",
       "      <td>0</td>\n",
       "      <td>0</td>\n",
       "      <td>0</td>\n",
       "      <td>0</td>\n",
       "      <td>0</td>\n",
       "      <td>0</td>\n",
       "    </tr>\n",
       "    <tr>\n",
       "      <th>1</th>\n",
       "      <td>Seto no Hanayome</td>\n",
       "      <td>TV</td>\n",
       "      <td>Manga</td>\n",
       "      <td>26</td>\n",
       "      <td>Finished Airing</td>\n",
       "      <td>False</td>\n",
       "      <td>{'from': '2007-04-02', 'to': '2007-10-01'}</td>\n",
       "      <td>24 min. per ep.</td>\n",
       "      <td>PG-13 - Teens 13 or older</td>\n",
       "      <td>7.89</td>\n",
       "      <td>...</td>\n",
       "      <td>0</td>\n",
       "      <td>0</td>\n",
       "      <td>0</td>\n",
       "      <td>0</td>\n",
       "      <td>0</td>\n",
       "      <td>0</td>\n",
       "      <td>0</td>\n",
       "      <td>0</td>\n",
       "      <td>0</td>\n",
       "      <td>0</td>\n",
       "    </tr>\n",
       "    <tr>\n",
       "      <th>2</th>\n",
       "      <td>Shugo Chara!! Doki</td>\n",
       "      <td>TV</td>\n",
       "      <td>Manga</td>\n",
       "      <td>51</td>\n",
       "      <td>Finished Airing</td>\n",
       "      <td>False</td>\n",
       "      <td>{'from': '2008-10-04', 'to': '2009-09-25'}</td>\n",
       "      <td>24 min. per ep.</td>\n",
       "      <td>PG - Children</td>\n",
       "      <td>7.55</td>\n",
       "      <td>...</td>\n",
       "      <td>0</td>\n",
       "      <td>0</td>\n",
       "      <td>0</td>\n",
       "      <td>0</td>\n",
       "      <td>0</td>\n",
       "      <td>0</td>\n",
       "      <td>0</td>\n",
       "      <td>0</td>\n",
       "      <td>0</td>\n",
       "      <td>0</td>\n",
       "    </tr>\n",
       "    <tr>\n",
       "      <th>3</th>\n",
       "      <td>Princess Tutu</td>\n",
       "      <td>TV</td>\n",
       "      <td>Original</td>\n",
       "      <td>38</td>\n",
       "      <td>Finished Airing</td>\n",
       "      <td>False</td>\n",
       "      <td>{'from': '2002-08-16', 'to': '2003-05-23'}</td>\n",
       "      <td>16 min. per ep.</td>\n",
       "      <td>PG-13 - Teens 13 or older</td>\n",
       "      <td>8.21</td>\n",
       "      <td>...</td>\n",
       "      <td>0</td>\n",
       "      <td>0</td>\n",
       "      <td>0</td>\n",
       "      <td>0</td>\n",
       "      <td>0</td>\n",
       "      <td>0</td>\n",
       "      <td>0</td>\n",
       "      <td>0</td>\n",
       "      <td>0</td>\n",
       "      <td>0</td>\n",
       "    </tr>\n",
       "    <tr>\n",
       "      <th>4</th>\n",
       "      <td>Bakuman. 3rd Season</td>\n",
       "      <td>TV</td>\n",
       "      <td>Manga</td>\n",
       "      <td>25</td>\n",
       "      <td>Finished Airing</td>\n",
       "      <td>False</td>\n",
       "      <td>{'from': '2012-10-06', 'to': '2013-03-30'}</td>\n",
       "      <td>24 min. per ep.</td>\n",
       "      <td>PG-13 - Teens 13 or older</td>\n",
       "      <td>8.67</td>\n",
       "      <td>...</td>\n",
       "      <td>0</td>\n",
       "      <td>0</td>\n",
       "      <td>0</td>\n",
       "      <td>0</td>\n",
       "      <td>0</td>\n",
       "      <td>0</td>\n",
       "      <td>0</td>\n",
       "      <td>0</td>\n",
       "      <td>0</td>\n",
       "      <td>0</td>\n",
       "    </tr>\n",
       "  </tbody>\n",
       "</table>\n",
       "<p>5 rows × 103 columns</p>\n",
       "</div>"
      ],
      "text/plain": [
       "                 title type    source episodes           status airing  \\\n",
       "0        Inu x Boku SS   TV     Manga       12  Finished Airing  False   \n",
       "1     Seto no Hanayome   TV     Manga       26  Finished Airing  False   \n",
       "2   Shugo Chara!! Doki   TV     Manga       51  Finished Airing  False   \n",
       "3        Princess Tutu   TV  Original       38  Finished Airing  False   \n",
       "4  Bakuman. 3rd Season   TV     Manga       25  Finished Airing  False   \n",
       "\n",
       "                                        aired         duration  \\\n",
       "0  {'from': '2012-01-13', 'to': '2012-03-30'}  24 min. per ep.   \n",
       "1  {'from': '2007-04-02', 'to': '2007-10-01'}  24 min. per ep.   \n",
       "2  {'from': '2008-10-04', 'to': '2009-09-25'}  24 min. per ep.   \n",
       "3  {'from': '2002-08-16', 'to': '2003-05-23'}  16 min. per ep.   \n",
       "4  {'from': '2012-10-06', 'to': '2013-03-30'}  24 min. per ep.   \n",
       "\n",
       "                      rating score  ... Shoujo Shounen Slice of Life Space  \\\n",
       "0  PG-13 - Teens 13 or older  7.63  ...      0       0             0     0   \n",
       "1  PG-13 - Teens 13 or older  7.89  ...      0       0             0     0   \n",
       "2              PG - Children  7.55  ...      0       0             0     0   \n",
       "3  PG-13 - Teens 13 or older  8.21  ...      0       0             0     0   \n",
       "4  PG-13 - Teens 13 or older  8.67  ...      0       0             0     0   \n",
       "\n",
       "  Sports Super Power Supernatural Thriller Vampire Yaoi  \n",
       "0      0           0            0        0       0    0  \n",
       "1      0           0            0        0       0    0  \n",
       "2      0           0            0        0       0    0  \n",
       "3      0           0            0        0       0    0  \n",
       "4      0           0            0        0       0    0  \n",
       "\n",
       "[5 rows x 103 columns]"
      ]
     },
     "execution_count": 8,
     "metadata": {},
     "output_type": "execute_result"
    }
   ],
   "source": [
    "userlist = pd.read_csv('DataSets/Cleaned data/outV1.csv',dtype='unicode')\n",
    "userlist.head()"
   ]
  },
  {
   "cell_type": "markdown",
   "id": "bd5a7e69-6763-42dc-bfec-1f7ebb1bdead",
   "metadata": {
    "tags": []
   },
   "source": [
    "## Step 1.1: Exploring scope\n",
    "\n",
    "We see that some columns are categorical, while some are numerical.  \n",
    "Let us figure out what outputs are in the categorical columns, and what range of values there are in the numerical ones."
   ]
  },
  {
   "cell_type": "markdown",
   "id": "fb83ed19-6156-4973-86f7-6b00d825b0f8",
   "metadata": {
    "jp-MarkdownHeadingCollapsed": true
   },
   "source": [
    "### Printing out possible values of categorical variables\n",
    "\n",
    "We are interested in finding out how many types of values there are for the following columns\n",
    "1. Type\n",
    "2. Source\n",
    "3. Status\n",
    "4. Rating"
   ]
  },
  {
   "cell_type": "code",
   "execution_count": 9,
   "id": "66416e34-6906-4e1f-8eec-f3670f67e940",
   "metadata": {},
   "outputs": [
    {
     "name": "stdout",
     "output_type": "stream",
     "text": [
      "Unique values for Type:\n",
      "TV\n",
      "Movie\n",
      "Music\n",
      "OVA\n",
      "ONA\n",
      "Special\n",
      "Unknown\n",
      "\n",
      "\n",
      "Unique values for source:\n",
      "Manga\n",
      "Original\n",
      "Light novel\n",
      "4-koma manga\n",
      "Novel\n",
      "Visual novel\n",
      "Unknown\n",
      "Other\n",
      "Music\n",
      "Game\n",
      "Picture book\n",
      "Card game\n",
      "Web manga\n",
      "Book\n",
      "Radio\n",
      "Digital manga\n",
      "\n",
      "\n",
      "Unique values for status:\n",
      "Finished Airing\n",
      "Currently Airing\n",
      "Not yet aired\n",
      "\n",
      "\n",
      "Unique values for rating:\n",
      "PG-13 - Teens 13 or older\n",
      "PG - Children\n",
      "G - All Ages\n",
      "R+ - Mild Nudity\n",
      "R - 17+ (violence & profanity)\n",
      "Rx - Hentai\n",
      "\n",
      "\n",
      "Unique values for studio:\n",
      "SmallStudio\n",
      "Gonzo\n",
      "Satelight\n",
      "J.C.Staff\n",
      "Production Reed\n",
      "Bones\n",
      "Studio Deen\n",
      "Brain&#039;s Base\n",
      "Studio Pierrot\n",
      "Madhouse\n",
      "Production I.G\n",
      "TMS Entertainment\n",
      "Tatsunoko Production\n",
      "Shin-Ei Animation\n",
      "Toei Animation\n",
      "Sunrise\n",
      "Zexcs\n",
      "unknown\n",
      "Lerche\n",
      "Studio 4°C\n",
      "Kachidoki Studio\n",
      "DLE\n",
      "Xebec\n",
      "A-1 Pictures\n",
      "Nippon Animation\n",
      "Kyoto Animation\n",
      "OLM\n",
      "Shaft\n",
      "ufotable\n",
      "Silver Link.\n",
      "Seven\n",
      "Arms\n",
      "Diomedea\n",
      "Studio Ghibli\n",
      "feel.\n",
      "Gainax\n",
      "Doga Kobo\n",
      "P.A. Works\n",
      "AIC\n",
      "PoRO\n",
      "Studio Hibari\n",
      "Studio Gallop\n",
      "\n",
      "\n"
     ]
    }
   ],
   "source": [
    "# Filtering the Type column\n",
    "type_unique_values = userlist['type'].unique()\n",
    "\n",
    "# Print the unique values for Type\n",
    "print(\"Unique values for Type:\")\n",
    "for value in type_unique_values:\n",
    "    print(value)\n",
    "print(\"\\n\")\n",
    "\n",
    "# Filtering the Source column\n",
    "source_unique_values = userlist['source'].unique()\n",
    "\n",
    "# Print the unique values for Source\n",
    "print(\"Unique values for source:\")\n",
    "for value in source_unique_values:\n",
    "    print(value)\n",
    "print(\"\\n\")\n",
    "\n",
    "# Filtering the Status column\n",
    "status_unique_values = userlist['status'].unique()\n",
    "\n",
    "# Print the unique values for Status\n",
    "print(\"Unique values for status:\")\n",
    "for value in status_unique_values:\n",
    "    print(value)\n",
    "print(\"\\n\")\n",
    "\n",
    "# Filtering the Rating column\n",
    "rating_unique_values = userlist['rating'].unique()\n",
    "\n",
    "# Print the unique values for Rating\n",
    "print(\"Unique values for rating:\")\n",
    "for value in rating_unique_values:\n",
    "    print(value)\n",
    "print(\"\\n\")\n",
    "\n",
    "# Filtering the Studio column\n",
    "studio_unique_values = userlist['studio'].unique()\n",
    "\n",
    "# Print the unique values for Studio\n",
    "print(\"Unique values for studio:\")\n",
    "for value in studio_unique_values:\n",
    "    print(value)\n",
    "print(\"\\n\")"
   ]
  },
  {
   "cell_type": "markdown",
   "id": "fc98ca04-d973-443b-be72-f128f6c96dbb",
   "metadata": {},
   "source": [
    "### Printing out range of values for numerical variables\n",
    "\n",
    "We are interested in finding out the minimum and maximum values for the following columns\n",
    "1. Episodes\n",
    "2. Duration\n",
    "3. Score\n",
    "4. Score_by\n",
    "5. Rank\n",
    "6. Popularity\n",
    "7. Members\n",
    "8. Favourites"
   ]
  },
  {
   "cell_type": "code",
   "execution_count": 10,
   "id": "66f8f753-74e3-4d66-ab86-c035bf5595d3",
   "metadata": {},
   "outputs": [
    {
     "data": {
      "text/plain": [
       "'\\n# Filtering the Episodes column\\nepisode_minimum_value = userlist[\\'episodes\\'].min()\\nepisode_maximum_value = userlist[\\'episodes\\'].max()\\n\\nprint(\"Minimum value in for episode:\", episode_minimum_value)\\nprint(\"Maximum value in for episode:\", episode_maximum_value)\\nprint(\"\\n\")\\n\\n# Filtering the Duration column\\nduration_minimum_value = userlist[\\'duration\\'].min()\\nduration_maximum_value = userlist[\\'duration\\'].max()\\n\\nprint(\"Minimum value in for duration:\", duration_minimum_value)\\nprint(\"Maximum value in for duration:\", duration_maximum_value)\\nprint(\"\\n\")\\n\\n# Filtering the Score column\\nscore_minimum_value = userlist[\\'score\\'].min()\\nscore_maximum_value = userlist[\\'score\\'].max()\\n\\nprint(\"Minimum value in for score:\", score_minimum_value)\\nprint(\"Maximum value in for score:\", score_maximum_value)\\nprint(\"\\n\")\\n\\n# Filtering the Rank column\\nrank_minimum_value = userlist[\\'rank\\'].min()\\nrank_maximum_value = userlist[\\'rank\\'].max()\\n\\nprint(\"Minimum value in for rank:\", rank_minimum_value)\\nprint(\"Maximum value in for rank:\", rank_maximum_value)\\nprint(\"\\n\")\\n\\n# Filtering the Popularity column\\npopularity_minimum_value = userlist[\\'popularity\\'].min()\\npopularity_maximum_value = userlist[\\'popularity\\'].max()\\n\\nprint(\"Minimum value in for popularity:\", popularity_minimum_value)\\nprint(\"Maximum value in for popularity:\", popularity_maximum_value)\\nprint(\"\\n\")\\n\\n# Filtering the Members column\\nmember_minimum_value = userlist[\\'members\\'].min()\\nmember_maximum_value = userlist[\\'members\\'].max()\\n\\nprint(\"Minimum value in for member:\", member_minimum_value)\\nprint(\"Maximum value in for member:\", member_maximum_value)\\nprint(\"\\n\")\\n\\n# Filtering the Favourites column\\nfavourite_minimum_value = userlist[\\'favorites\\'].min()\\nfavourite_maximum_value = userlist[\\'favorites\\'].max()\\n\\nprint(\"Minimum value in for favourite:\", favourite_minimum_value)\\nprint(\"Maximum value in for favourite:\", favourite_maximum_value)\\n'"
      ]
     },
     "execution_count": 10,
     "metadata": {},
     "output_type": "execute_result"
    }
   ],
   "source": [
    "'''\n",
    "# Filtering the Episodes column\n",
    "episode_minimum_value = userlist['episodes'].min()\n",
    "episode_maximum_value = userlist['episodes'].max()\n",
    "\n",
    "print(\"Minimum value in for episode:\", episode_minimum_value)\n",
    "print(\"Maximum value in for episode:\", episode_maximum_value)\n",
    "print(\"\\n\")\n",
    "\n",
    "# Filtering the Duration column\n",
    "duration_minimum_value = userlist['duration'].min()\n",
    "duration_maximum_value = userlist['duration'].max()\n",
    "\n",
    "print(\"Minimum value in for duration:\", duration_minimum_value)\n",
    "print(\"Maximum value in for duration:\", duration_maximum_value)\n",
    "print(\"\\n\")\n",
    "\n",
    "# Filtering the Score column\n",
    "score_minimum_value = userlist['score'].min()\n",
    "score_maximum_value = userlist['score'].max()\n",
    "\n",
    "print(\"Minimum value in for score:\", score_minimum_value)\n",
    "print(\"Maximum value in for score:\", score_maximum_value)\n",
    "print(\"\\n\")\n",
    "\n",
    "# Filtering the Rank column\n",
    "rank_minimum_value = userlist['rank'].min()\n",
    "rank_maximum_value = userlist['rank'].max()\n",
    "\n",
    "print(\"Minimum value in for rank:\", rank_minimum_value)\n",
    "print(\"Maximum value in for rank:\", rank_maximum_value)\n",
    "print(\"\\n\")\n",
    "\n",
    "# Filtering the Popularity column\n",
    "popularity_minimum_value = userlist['popularity'].min()\n",
    "popularity_maximum_value = userlist['popularity'].max()\n",
    "\n",
    "print(\"Minimum value in for popularity:\", popularity_minimum_value)\n",
    "print(\"Maximum value in for popularity:\", popularity_maximum_value)\n",
    "print(\"\\n\")\n",
    "\n",
    "# Filtering the Members column\n",
    "member_minimum_value = userlist['members'].min()\n",
    "member_maximum_value = userlist['members'].max()\n",
    "\n",
    "print(\"Minimum value in for member:\", member_minimum_value)\n",
    "print(\"Maximum value in for member:\", member_maximum_value)\n",
    "print(\"\\n\")\n",
    "\n",
    "# Filtering the Favourites column\n",
    "favourite_minimum_value = userlist['favorites'].min()\n",
    "favourite_maximum_value = userlist['favorites'].max()\n",
    "\n",
    "print(\"Minimum value in for favourite:\", favourite_minimum_value)\n",
    "print(\"Maximum value in for favourite:\", favourite_maximum_value)\n",
    "'''"
   ]
  },
  {
   "cell_type": "markdown",
   "id": "0b525eea-831c-4af0-9310-c221770c17a5",
   "metadata": {
    "tags": []
   },
   "source": [
    "## Step 1.2: Choosing Initial Variables\n",
    "\n",
    "We have decided to pick 5 variables to explore, and this section breaks down what they mean and how they are calculated\n"
   ]
  },
  {
   "cell_type": "markdown",
   "id": "830faa31-ce9f-4894-b644-586dd191fe00",
   "metadata": {
    "jp-MarkdownHeadingCollapsed": true
   },
   "source": [
    "### Score\n",
    "\n",
    "Score is a weighted average of the rating that users give to a particular anime  \n",
    "It is calculated using the following formula:  \n",
    "\n",
    "(v/(v+m)) * S + (m/v+m) * C  \n",
    "\n",
    "Where\n",
    "> v = Number of users giving a score  \n",
    "> m = Minimum number of scored users required to get a calculated score  \n",
    "> S = Average score  \n",
    "> C = Mean score across the entire datase \n",
    "\n",
    "We can see that S and C are essentially unweighted averages"
   ]
  },
  {
   "cell_type": "markdown",
   "id": "a5e79b0d-4b5b-48d1-a714-36fc704fa8a1",
   "metadata": {},
   "source": [
    "### Rank\n",
    "\n",
    "It is not immediately clear how rank is calculated, perhaps we can run a regression operation to reverse engineer the formula..."
   ]
  },
  {
   "cell_type": "markdown",
   "id": "9d841639-8b3f-4266-b711-554dd0a88c11",
   "metadata": {},
   "source": [
    "### Popularity\n",
    "\n",
    "This is the number of viewers that watched a particular anime"
   ]
  },
  {
   "cell_type": "markdown",
   "id": "b30e0984-237f-4ace-b759-4b4d962e280a",
   "metadata": {},
   "source": [
    "### Members\n",
    "\n",
    "This is the number of people who added a particular anime to their list  \n",
    "The list is for"
   ]
  },
  {
   "cell_type": "markdown",
   "id": "19b2f513-d2d3-4413-b448-5bc205586898",
   "metadata": {},
   "source": [
    "### Favourites\n",
    "\n",
    "This is the number of people who favourited a particular anime"
   ]
  },
  {
   "cell_type": "markdown",
   "id": "c412d7a2-928a-4c6d-8008-9e6eef1b8919",
   "metadata": {},
   "source": [
    "## Step 1.3: Visualizing Individual Variables\n",
    "\n",
    "Let us look in more detail at each chosen variable, using visual tools"
   ]
  },
  {
   "cell_type": "code",
   "execution_count": null,
   "id": "93d03366-7b76-4899-b43b-49e2f64e870d",
   "metadata": {},
   "outputs": [],
   "source": []
  },
  {
   "cell_type": "markdown",
   "id": "fca114bc-2efa-414b-915f-28380a85b26e",
   "metadata": {
    "tags": []
   },
   "source": [
    "## Step 1.4: Looking at chosen variables in pairs\n",
    "\n",
    "Now that we know what the variables entail, let us compare them against one another"
   ]
  },
  {
   "cell_type": "markdown",
   "id": "c838fd61-1b40-40b5-b7e8-bc1a6bb62337",
   "metadata": {},
   "source": [
    "## Step 1.5: Comparing all chosen variables\n",
    "\n",
    "Here we utilize a pair-plot to get the big picture"
   ]
  },
  {
   "cell_type": "markdown",
   "id": "6192833a-0fcb-4b6d-a659-f43e6d42e9e2",
   "metadata": {
    "tags": []
   },
   "source": [
    "## Step 2.1: Correlation Coefficients\n",
    "\n",
    "We look at correlation coefficients - specifically against Rank, in order to clue us into which variables to consider for reverse engineering its formula"
   ]
  },
  {
   "cell_type": "code",
   "execution_count": 11,
   "id": "2f054781-cae4-4f82-aae3-ea2d5f73264a",
   "metadata": {},
   "outputs": [
    {
     "ename": "TypeError",
     "evalue": "unsupported operand type(s) for /: 'str' and 'int'",
     "output_type": "error",
     "traceback": [
      "\u001b[1;31m---------------------------------------------------------------------------\u001b[0m",
      "\u001b[1;31mTypeError\u001b[0m                                 Traceback (most recent call last)",
      "Cell \u001b[1;32mIn[11], line 2\u001b[0m\n\u001b[0;32m      1\u001b[0m \u001b[38;5;66;03m# Calculating correlation coefficient between rank and score \u001b[39;00m\n\u001b[1;32m----> 2\u001b[0m rank_vs_score_correlation_coefficient \u001b[38;5;241m=\u001b[39m userlist[\u001b[38;5;124m'\u001b[39m\u001b[38;5;124mrank\u001b[39m\u001b[38;5;124m'\u001b[39m]\u001b[38;5;241m.\u001b[39mcorr(userlist[\u001b[38;5;124m'\u001b[39m\u001b[38;5;124mscore\u001b[39m\u001b[38;5;124m'\u001b[39m])\n\u001b[0;32m      3\u001b[0m \u001b[38;5;28mprint\u001b[39m(\u001b[38;5;124mf\u001b[39m\u001b[38;5;124m\"\u001b[39m\u001b[38;5;124mCorrelation Coefficient between rank and score: \u001b[39m\u001b[38;5;132;01m{\u001b[39;00mrank_vs_score_correlation_coefficient\u001b[38;5;132;01m}\u001b[39;00m\u001b[38;5;124m\"\u001b[39m)\n\u001b[0;32m      4\u001b[0m \u001b[38;5;28mprint\u001b[39m(\u001b[38;5;124m\"\u001b[39m\u001b[38;5;130;01m\\n\u001b[39;00m\u001b[38;5;124m\"\u001b[39m)\n",
      "File \u001b[1;32m~\\anaconda3\\Lib\\site-packages\\pandas\\core\\series.py:2727\u001b[0m, in \u001b[0;36mSeries.corr\u001b[1;34m(self, other, method, min_periods)\u001b[0m\n\u001b[0;32m   2724\u001b[0m     \u001b[38;5;28;01mreturn\u001b[39;00m np\u001b[38;5;241m.\u001b[39mnan\n\u001b[0;32m   2726\u001b[0m \u001b[38;5;28;01mif\u001b[39;00m method \u001b[38;5;129;01min\u001b[39;00m [\u001b[38;5;124m\"\u001b[39m\u001b[38;5;124mpearson\u001b[39m\u001b[38;5;124m\"\u001b[39m, \u001b[38;5;124m\"\u001b[39m\u001b[38;5;124mspearman\u001b[39m\u001b[38;5;124m\"\u001b[39m, \u001b[38;5;124m\"\u001b[39m\u001b[38;5;124mkendall\u001b[39m\u001b[38;5;124m\"\u001b[39m] \u001b[38;5;129;01mor\u001b[39;00m \u001b[38;5;28mcallable\u001b[39m(method):\n\u001b[1;32m-> 2727\u001b[0m     \u001b[38;5;28;01mreturn\u001b[39;00m nanops\u001b[38;5;241m.\u001b[39mnancorr(\n\u001b[0;32m   2728\u001b[0m         this\u001b[38;5;241m.\u001b[39mvalues, other\u001b[38;5;241m.\u001b[39mvalues, method\u001b[38;5;241m=\u001b[39mmethod, min_periods\u001b[38;5;241m=\u001b[39mmin_periods\n\u001b[0;32m   2729\u001b[0m     )\n\u001b[0;32m   2731\u001b[0m \u001b[38;5;28;01mraise\u001b[39;00m \u001b[38;5;167;01mValueError\u001b[39;00m(\n\u001b[0;32m   2732\u001b[0m     \u001b[38;5;124m\"\u001b[39m\u001b[38;5;124mmethod must be either \u001b[39m\u001b[38;5;124m'\u001b[39m\u001b[38;5;124mpearson\u001b[39m\u001b[38;5;124m'\u001b[39m\u001b[38;5;124m, \u001b[39m\u001b[38;5;124m\"\u001b[39m\n\u001b[0;32m   2733\u001b[0m     \u001b[38;5;124m\"\u001b[39m\u001b[38;5;124m'\u001b[39m\u001b[38;5;124mspearman\u001b[39m\u001b[38;5;124m'\u001b[39m\u001b[38;5;124m, \u001b[39m\u001b[38;5;124m'\u001b[39m\u001b[38;5;124mkendall\u001b[39m\u001b[38;5;124m'\u001b[39m\u001b[38;5;124m, or a callable, \u001b[39m\u001b[38;5;124m\"\u001b[39m\n\u001b[0;32m   2734\u001b[0m     \u001b[38;5;124mf\u001b[39m\u001b[38;5;124m\"\u001b[39m\u001b[38;5;124m'\u001b[39m\u001b[38;5;132;01m{\u001b[39;00mmethod\u001b[38;5;132;01m}\u001b[39;00m\u001b[38;5;124m'\u001b[39m\u001b[38;5;124m was supplied\u001b[39m\u001b[38;5;124m\"\u001b[39m\n\u001b[0;32m   2735\u001b[0m )\n",
      "File \u001b[1;32m~\\anaconda3\\Lib\\site-packages\\pandas\\core\\nanops.py:96\u001b[0m, in \u001b[0;36mdisallow.__call__.<locals>._f\u001b[1;34m(*args, **kwargs)\u001b[0m\n\u001b[0;32m     94\u001b[0m \u001b[38;5;28;01mtry\u001b[39;00m:\n\u001b[0;32m     95\u001b[0m     \u001b[38;5;28;01mwith\u001b[39;00m np\u001b[38;5;241m.\u001b[39merrstate(invalid\u001b[38;5;241m=\u001b[39m\u001b[38;5;124m\"\u001b[39m\u001b[38;5;124mignore\u001b[39m\u001b[38;5;124m\"\u001b[39m):\n\u001b[1;32m---> 96\u001b[0m         \u001b[38;5;28;01mreturn\u001b[39;00m f(\u001b[38;5;241m*\u001b[39margs, \u001b[38;5;241m*\u001b[39m\u001b[38;5;241m*\u001b[39mkwargs)\n\u001b[0;32m     97\u001b[0m \u001b[38;5;28;01mexcept\u001b[39;00m \u001b[38;5;167;01mValueError\u001b[39;00m \u001b[38;5;28;01mas\u001b[39;00m e:\n\u001b[0;32m     98\u001b[0m     \u001b[38;5;66;03m# we want to transform an object array\u001b[39;00m\n\u001b[0;32m     99\u001b[0m     \u001b[38;5;66;03m# ValueError message to the more typical TypeError\u001b[39;00m\n\u001b[0;32m    100\u001b[0m     \u001b[38;5;66;03m# e.g. this is normally a disallowed function on\u001b[39;00m\n\u001b[0;32m    101\u001b[0m     \u001b[38;5;66;03m# object arrays that contain strings\u001b[39;00m\n\u001b[0;32m    102\u001b[0m     \u001b[38;5;28;01mif\u001b[39;00m is_object_dtype(args[\u001b[38;5;241m0\u001b[39m]):\n",
      "File \u001b[1;32m~\\anaconda3\\Lib\\site-packages\\pandas\\core\\nanops.py:1614\u001b[0m, in \u001b[0;36mnancorr\u001b[1;34m(a, b, method, min_periods)\u001b[0m\n\u001b[0;32m   1611\u001b[0m     \u001b[38;5;28;01mreturn\u001b[39;00m np\u001b[38;5;241m.\u001b[39mnan\n\u001b[0;32m   1613\u001b[0m f \u001b[38;5;241m=\u001b[39m get_corr_func(method)\n\u001b[1;32m-> 1614\u001b[0m \u001b[38;5;28;01mreturn\u001b[39;00m f(a, b)\n",
      "File \u001b[1;32m~\\anaconda3\\Lib\\site-packages\\pandas\\core\\nanops.py:1637\u001b[0m, in \u001b[0;36mget_corr_func.<locals>.func\u001b[1;34m(a, b)\u001b[0m\n\u001b[0;32m   1636\u001b[0m \u001b[38;5;28;01mdef\u001b[39;00m \u001b[38;5;21mfunc\u001b[39m(a, b):\n\u001b[1;32m-> 1637\u001b[0m     \u001b[38;5;28;01mreturn\u001b[39;00m np\u001b[38;5;241m.\u001b[39mcorrcoef(a, b)[\u001b[38;5;241m0\u001b[39m, \u001b[38;5;241m1\u001b[39m]\n",
      "File \u001b[1;32m<__array_function__ internals>:200\u001b[0m, in \u001b[0;36mcorrcoef\u001b[1;34m(*args, **kwargs)\u001b[0m\n",
      "File \u001b[1;32m~\\anaconda3\\Lib\\site-packages\\numpy\\lib\\function_base.py:2846\u001b[0m, in \u001b[0;36mcorrcoef\u001b[1;34m(x, y, rowvar, bias, ddof, dtype)\u001b[0m\n\u001b[0;32m   2842\u001b[0m \u001b[38;5;28;01mif\u001b[39;00m bias \u001b[38;5;129;01mis\u001b[39;00m \u001b[38;5;129;01mnot\u001b[39;00m np\u001b[38;5;241m.\u001b[39m_NoValue \u001b[38;5;129;01mor\u001b[39;00m ddof \u001b[38;5;129;01mis\u001b[39;00m \u001b[38;5;129;01mnot\u001b[39;00m np\u001b[38;5;241m.\u001b[39m_NoValue:\n\u001b[0;32m   2843\u001b[0m     \u001b[38;5;66;03m# 2015-03-15, 1.10\u001b[39;00m\n\u001b[0;32m   2844\u001b[0m     warnings\u001b[38;5;241m.\u001b[39mwarn(\u001b[38;5;124m'\u001b[39m\u001b[38;5;124mbias and ddof have no effect and are deprecated\u001b[39m\u001b[38;5;124m'\u001b[39m,\n\u001b[0;32m   2845\u001b[0m                   \u001b[38;5;167;01mDeprecationWarning\u001b[39;00m, stacklevel\u001b[38;5;241m=\u001b[39m\u001b[38;5;241m3\u001b[39m)\n\u001b[1;32m-> 2846\u001b[0m c \u001b[38;5;241m=\u001b[39m cov(x, y, rowvar, dtype\u001b[38;5;241m=\u001b[39mdtype)\n\u001b[0;32m   2847\u001b[0m \u001b[38;5;28;01mtry\u001b[39;00m:\n\u001b[0;32m   2848\u001b[0m     d \u001b[38;5;241m=\u001b[39m diag(c)\n",
      "File \u001b[1;32m<__array_function__ internals>:200\u001b[0m, in \u001b[0;36mcov\u001b[1;34m(*args, **kwargs)\u001b[0m\n",
      "File \u001b[1;32m~\\anaconda3\\Lib\\site-packages\\numpy\\lib\\function_base.py:2681\u001b[0m, in \u001b[0;36mcov\u001b[1;34m(m, y, rowvar, bias, ddof, fweights, aweights, dtype)\u001b[0m\n\u001b[0;32m   2678\u001b[0m     \u001b[38;5;28;01melse\u001b[39;00m:\n\u001b[0;32m   2679\u001b[0m         w \u001b[38;5;241m*\u001b[39m\u001b[38;5;241m=\u001b[39m aweights\n\u001b[1;32m-> 2681\u001b[0m avg, w_sum \u001b[38;5;241m=\u001b[39m average(X, axis\u001b[38;5;241m=\u001b[39m\u001b[38;5;241m1\u001b[39m, weights\u001b[38;5;241m=\u001b[39mw, returned\u001b[38;5;241m=\u001b[39m\u001b[38;5;28;01mTrue\u001b[39;00m)\n\u001b[0;32m   2682\u001b[0m w_sum \u001b[38;5;241m=\u001b[39m w_sum[\u001b[38;5;241m0\u001b[39m]\n\u001b[0;32m   2684\u001b[0m \u001b[38;5;66;03m# Determine the normalization\u001b[39;00m\n",
      "File \u001b[1;32m<__array_function__ internals>:200\u001b[0m, in \u001b[0;36maverage\u001b[1;34m(*args, **kwargs)\u001b[0m\n",
      "File \u001b[1;32m~\\anaconda3\\Lib\\site-packages\\numpy\\lib\\function_base.py:518\u001b[0m, in \u001b[0;36maverage\u001b[1;34m(a, axis, weights, returned, keepdims)\u001b[0m\n\u001b[0;32m    515\u001b[0m     keepdims_kw \u001b[38;5;241m=\u001b[39m {\u001b[38;5;124m'\u001b[39m\u001b[38;5;124mkeepdims\u001b[39m\u001b[38;5;124m'\u001b[39m: keepdims}\n\u001b[0;32m    517\u001b[0m \u001b[38;5;28;01mif\u001b[39;00m weights \u001b[38;5;129;01mis\u001b[39;00m \u001b[38;5;28;01mNone\u001b[39;00m:\n\u001b[1;32m--> 518\u001b[0m     avg \u001b[38;5;241m=\u001b[39m a\u001b[38;5;241m.\u001b[39mmean(axis, \u001b[38;5;241m*\u001b[39m\u001b[38;5;241m*\u001b[39mkeepdims_kw)\n\u001b[0;32m    519\u001b[0m     avg_as_array \u001b[38;5;241m=\u001b[39m np\u001b[38;5;241m.\u001b[39masanyarray(avg)\n\u001b[0;32m    520\u001b[0m     scl \u001b[38;5;241m=\u001b[39m avg_as_array\u001b[38;5;241m.\u001b[39mdtype\u001b[38;5;241m.\u001b[39mtype(a\u001b[38;5;241m.\u001b[39msize\u001b[38;5;241m/\u001b[39mavg_as_array\u001b[38;5;241m.\u001b[39msize)\n",
      "File \u001b[1;32m~\\anaconda3\\Lib\\site-packages\\numpy\\core\\_methods.py:184\u001b[0m, in \u001b[0;36m_mean\u001b[1;34m(a, axis, dtype, out, keepdims, where)\u001b[0m\n\u001b[0;32m    182\u001b[0m \u001b[38;5;28;01mif\u001b[39;00m \u001b[38;5;28misinstance\u001b[39m(ret, mu\u001b[38;5;241m.\u001b[39mndarray):\n\u001b[0;32m    183\u001b[0m     \u001b[38;5;28;01mwith\u001b[39;00m _no_nep50_warning():\n\u001b[1;32m--> 184\u001b[0m         ret \u001b[38;5;241m=\u001b[39m um\u001b[38;5;241m.\u001b[39mtrue_divide(\n\u001b[0;32m    185\u001b[0m                 ret, rcount, out\u001b[38;5;241m=\u001b[39mret, casting\u001b[38;5;241m=\u001b[39m\u001b[38;5;124m'\u001b[39m\u001b[38;5;124munsafe\u001b[39m\u001b[38;5;124m'\u001b[39m, subok\u001b[38;5;241m=\u001b[39m\u001b[38;5;28;01mFalse\u001b[39;00m)\n\u001b[0;32m    186\u001b[0m     \u001b[38;5;28;01mif\u001b[39;00m is_float16_result \u001b[38;5;129;01mand\u001b[39;00m out \u001b[38;5;129;01mis\u001b[39;00m \u001b[38;5;28;01mNone\u001b[39;00m:\n\u001b[0;32m    187\u001b[0m         ret \u001b[38;5;241m=\u001b[39m arr\u001b[38;5;241m.\u001b[39mdtype\u001b[38;5;241m.\u001b[39mtype(ret)\n",
      "\u001b[1;31mTypeError\u001b[0m: unsupported operand type(s) for /: 'str' and 'int'"
     ]
    }
   ],
   "source": [
    "# Calculating correlation coefficient between rank and score \n",
    "rank_vs_score_correlation_coefficient = userlist['rank'].corr(userlist['score'])\n",
    "print(f\"Correlation Coefficient between rank and score: {rank_vs_score_correlation_coefficient}\")\n",
    "print(\"\\n\")\n",
    "\n",
    "# Calculating correlation coefficient between rank and popularity \n",
    "rank_vs_popularity_correlation_coefficient = userlist['rank'].corr(userlist['popularity'])\n",
    "print(f\"Correlation Coefficient between rank and popularity: {rank_vs_popularity_correlation_coefficient}\")\n",
    "print(\"\\n\")\n",
    "\n",
    "# Calculating correlation coefficient between rank and members\n",
    "rank_vs_members_correlation_coefficient = userlist['rank'].corr(userlist['members'])\n",
    "print(f\"Correlation Coefficient between rank and members: {rank_vs_members_correlation_coefficient}\")\n",
    "print(\"\\n\")\n",
    "\n",
    "# Calculating correlation coefficient between rank and favourites\n",
    "rank_vs_favorites_correlation_coefficient = userlist['rank'].corr(userlist['favorites'])\n",
    "print(f\"Correlation Coefficient between rank and favorites: {rank_vs_favorites_correlation_coefficient}\")\n",
    "print(\"\\n\")"
   ]
  },
  {
   "cell_type": "markdown",
   "id": "c22ecf71-a246-4f75-a739-4a45c95d4763",
   "metadata": {
    "jp-MarkdownHeadingCollapsed": true
   },
   "source": [
    "### Evaluation\n",
    "\n",
    "Remember that to intepret the values:  \n",
    "> -1 indicates perfect negative correlation  \n",
    "> 0 indicates no correlation  \n",
    "> 1 indicates perfect positive correlation\n",
    "\n",
    "With that in mind, these are the coefficients (rounded off to 5 d.p.):\n",
    "* Rank and score: -0.66519\n",
    "* Rank and popularity: 0.70756\n",
    "* Rank and members: -0.38977\n",
    "* Rank and favorites: -0.18767\n",
    "\n",
    "From the results above, we can easily eliminate favourites as a variable, given how close its value is to 0  \n",
    "Members is also up for consideration for elimination"
   ]
  },
  {
   "cell_type": "markdown",
   "id": "1c7bec5a-d135-4870-8339-5106b942d002",
   "metadata": {},
   "source": [
    "## Step 2.2: Linear Regression\n",
    "\n",
    "Let's try the simplest form of modelling to predict Rank as a start!"
   ]
  },
  {
   "cell_type": "markdown",
   "id": "adb9b78e-cda1-439e-8496-6b473e42a5e0",
   "metadata": {},
   "source": [
    "### 3-Variable Model\n",
    "\n",
    "Since we aren't sure if Members should be included as a variable to predict Rank, let us include it first"
   ]
  },
  {
   "cell_type": "code",
   "execution_count": null,
   "id": "dd446a7b-33b0-4d90-b62f-f1d416f4ca0d",
   "metadata": {},
   "outputs": [],
   "source": [
    "# Predictor_3var contains the features (score, popularity, members) \n",
    "# Response contains the target variable (rank)\n",
    "Predictor_3var = userlist[['score', 'popularity', 'members']]\n",
    "Response = userlist['rank']"
   ]
  },
  {
   "cell_type": "markdown",
   "id": "d1c95b44-1f5c-4e97-a4b9-66784c717433",
   "metadata": {},
   "source": [
    "We then split the data into train and test sets  \n",
    "Take note that a seed value of 42 was chosen here for reproducibility"
   ]
  },
  {
   "cell_type": "code",
   "execution_count": null,
   "id": "9f410eef-fe70-4c52-81f4-ea5d133ea6d6",
   "metadata": {},
   "outputs": [],
   "source": [
    "from sklearn.model_selection import train_test_split\n",
    "\n",
    "# Split the data into training and testing sets (80% training, 20% testing) with a seed of 42\n",
    "Predictor_3var_train, Predictor_3var_test, Response_train, Response_test = train_test_split(Predictor_3var, Response, test_size=0.2, random_state=42)"
   ]
  },
  {
   "cell_type": "markdown",
   "id": "0d6983ab-1040-450e-8199-2e3f78143232",
   "metadata": {},
   "source": [
    "We create a linear regression model and train it using the train set"
   ]
  },
  {
   "cell_type": "code",
   "execution_count": null,
   "id": "6ad7ef89-9cb5-4d29-9a9f-b718b275b042",
   "metadata": {},
   "outputs": [],
   "source": [
    "from sklearn.linear_model import LinearRegression\n",
    "\n",
    "# Create and train the linear regression model\n",
    "linear_reg_model_3var = LinearRegression()\n",
    "linear_reg_model_3var.fit(Predictor_3var_train, Response_train)"
   ]
  },
  {
   "cell_type": "markdown",
   "id": "ff47512b-a273-4962-801e-835b207188ee",
   "metadata": {},
   "source": [
    "After training, we use the model to predict rank on the test set  \n",
    "We then plot the resulting predictions to check if anything looks unusual"
   ]
  },
  {
   "cell_type": "code",
   "execution_count": null,
   "id": "5fe4995b-14b5-43ab-a217-03bfd2e96a2e",
   "metadata": {},
   "outputs": [],
   "source": [
    "# Predict Rank for the test set\n",
    "Rank_pred_linear_reg_3var = linear_reg_model_3var.predict(Predictor_3var_test)\n",
    "\n",
    "# Plot the Predictions\n",
    "f = plt.figure(figsize=(16, 8))\n",
    "plt.scatter(Response_test, Rank_pred_linear_reg_3var, color = \"red\")\n",
    "plt.show()"
   ]
  },
  {
   "cell_type": "markdown",
   "id": "a734e3f4-e3a6-4a74-b27a-e7b35a0cde09",
   "metadata": {},
   "source": [
    "To get a better evaluation of how effective the model is, we use the following metrics:\n",
    "1. Mean Squared Error (MSE): The average of the squared differences between the predicted values and the actual values\n",
    "2. Root Mean Squared Error (RMSE): A measure of the average magnitude of the errors in the predicted values\n",
    "3. Mean Absolute Error (MAE): The average of the absolute differences between the predicted values and the actual values\n",
    "4. Coefficient of Deterimination (R^2): The proportion of the variance in the target variable that is explained by the model"
   ]
  },
  {
   "cell_type": "code",
   "execution_count": null,
   "id": "e395eea8-f32a-4e62-af36-13cbd3a72998",
   "metadata": {},
   "outputs": [],
   "source": [
    "# Calculating mean squared error\n",
    "from sklearn.metrics import mean_squared_error\n",
    "mse_3var = mean_squared_error(Response_test, Rank_pred_linear_reg_3var)\n",
    "print(f\"Mean Squared Error: {mse_3var}\")\n",
    "\n",
    "# Calculaing root mean squared error\n",
    "rmse_3var = mean_squared_error(Response_test, Rank_pred_linear_reg_3var, squared = False)\n",
    "print(f\"Root Mean Squared Error: {rmse_3var}\")\n",
    "\n",
    "# Calculating mean absolute error\n",
    "from sklearn.metrics import mean_absolute_error\n",
    "mae_3var = mean_absolute_error(Response_test, Rank_pred_linear_reg_3var)\n",
    "print(f\"Mean Absolute Error: {mae_3var}\")\n",
    "\n",
    "# Calculating coefficient of determination\n",
    "from sklearn.metrics import r2_score\n",
    "r2_3var = r2_score(Response_test, Rank_pred_linear_reg_3var)\n",
    "print(f\"R-squared Score: {r2_3var}\")"
   ]
  },
  {
   "cell_type": "markdown",
   "id": "3fbc1c32-33e9-4c50-8878-6557b908bd15",
   "metadata": {},
   "source": [
    "### 2-Variable Model\n",
    "\n",
    "Let us also try linear regression without members"
   ]
  },
  {
   "cell_type": "code",
   "execution_count": null,
   "id": "deeadeb5-34cf-4906-b203-18e07a4712f1",
   "metadata": {},
   "outputs": [],
   "source": [
    "# Predictor contains the features (score and popularity) \n",
    "# Response contains the target variable (rank)\n",
    "Predictor_2var = userlist[['score', 'popularity']]\n",
    "Response = userlist['rank']"
   ]
  },
  {
   "cell_type": "markdown",
   "id": "56118de9-0fd5-4620-b411-c204c36ac76b",
   "metadata": {},
   "source": [
    "We split the data again into train and test sets  \n",
    "Take note that a seed value of 42 was chosen here for reproducibility"
   ]
  },
  {
   "cell_type": "code",
   "execution_count": null,
   "id": "79ce1e38-fe14-4e7a-a9cf-6d578432122b",
   "metadata": {},
   "outputs": [],
   "source": [
    "# Split the data into training and testing sets (80% training, 20% testing) with a seed of 42\n",
    "Predictor_2var_train, Predictor_2var_test, Response_train, Response_test = train_test_split(Predictor_2var, Response, test_size=0.2, random_state=42)"
   ]
  },
  {
   "cell_type": "markdown",
   "id": "e80423db-f0fb-4900-b032-8a7b47a4eac5",
   "metadata": {},
   "source": [
    "After splitting the data, we create a linear regression model and train it using the train set"
   ]
  },
  {
   "cell_type": "code",
   "execution_count": null,
   "id": "e90f3d61-9fff-4f64-9d90-16640ea95fa6",
   "metadata": {},
   "outputs": [],
   "source": [
    "from sklearn.linear_model import LinearRegression\n",
    "\n",
    "# Create and train the linear regression model\n",
    "linear_reg_model_2var = LinearRegression()\n",
    "linear_reg_model_2var.fit(Predictor_2var_train, Response_train)"
   ]
  },
  {
   "cell_type": "markdown",
   "id": "5fbbee2a-43cc-4392-9556-bf6f9cdc497a",
   "metadata": {},
   "source": [
    "After training, we use the model to predict rank on the test set  \n",
    "We then plot the resulting predictions to check if anything looks unusual"
   ]
  },
  {
   "cell_type": "code",
   "execution_count": null,
   "id": "85a969e5-a1a2-493e-9f8c-74db90d2babf",
   "metadata": {},
   "outputs": [],
   "source": [
    "# Predict Rank for the test set\n",
    "Rank_pred_linear_reg_2var = linear_reg_model_2var.predict(Predictor_2var_test)\n",
    "\n",
    "# Plot the Predictions\n",
    "f = plt.figure(figsize=(16, 8))\n",
    "plt.scatter(Response_test, Rank_pred_linear_reg_2var, color = \"red\")\n",
    "plt.show()"
   ]
  },
  {
   "cell_type": "markdown",
   "id": "e24a11f8-805c-4a75-a132-9bce403741d1",
   "metadata": {},
   "source": [
    "To get a better evaluation of how effective the model is, we use the following metrics:\n",
    "1. Mean Squared Error (MSE): The average of the squared differences between the predicted values and the actual values\n",
    "2. Root Mean Squared Error (RMSE): A measure of the average magnitude of the errors in the predicted values\n",
    "3. Mean Absolute Error (MAE): The average of the absolute differences between the predicted values and the actual values\n",
    "4. Coefficient of Deterimination (R^2): The proportion of the variance in the target variable that is explained by the model"
   ]
  },
  {
   "cell_type": "code",
   "execution_count": null,
   "id": "1d21ac86-b2fc-422b-b4a6-d9390ba37744",
   "metadata": {},
   "outputs": [],
   "source": [
    "# Calculating mean squared error\n",
    "from sklearn.metrics import mean_squared_error\n",
    "mse_2var = mean_squared_error(Response_test, Rank_pred_linear_reg_2var)\n",
    "print(f\"Mean Squared Error: {mse_2var}\")\n",
    "\n",
    "# Calculaing root mean squared error\n",
    "rmse_2var = mean_squared_error(Response_test, Rank_pred_linear_reg_2var, squared = False)\n",
    "print(f\"Root Mean Squared Error: {rmse_2var}\")\n",
    "\n",
    "# Calculating mean absolute error\n",
    "from sklearn.metrics import mean_absolute_error\n",
    "mae_2var = mean_absolute_error(Response_test, Rank_pred_linear_reg_2var)\n",
    "print(f\"Mean Absolute Error: {mae_2var}\")\n",
    "\n",
    "# Calculating coefficient of determination\n",
    "from sklearn.metrics import r2_score\n",
    "r2_2var = r2_score(Response_test, Rank_pred_linear_reg_2var)\n",
    "print(f\"R-squared Score: {r2_2var}\")"
   ]
  },
  {
   "cell_type": "markdown",
   "id": "ccc73ad0-0993-416a-a618-85f9a25e4546",
   "metadata": {},
   "source": [
    "### Evaluation\n",
    "\n",
    "Let's compare the 4 metrics from both models to see which one is more accurate"
   ]
  },
  {
   "cell_type": "markdown",
   "id": "c722e13c-f008-4bf1-8a36-5fb0f4c98586",
   "metadata": {},
   "source": [
    "Remember that to evaluate these metrics\n",
    "> A lower MSE indicates better performance (0 lowest)\n",
    "> A lower RMSE indicates better performance (0 lowest)\n",
    "> A lower MAE indicates better performance (0 lowest)\n",
    "> A higher R^2 indicates better performance (1 highest)\n",
    "\n",
    "Here are the results for the 3-var model (rounded off to 5 d.p.):\n",
    "* Mean Squared Error: 6269914.25204\n",
    "* Root Mean Squared Error: 2503.97968\n",
    "* Mean Absolute Error: 1828.76560\n",
    "* R-Squared Score: 0.62505\n",
    "\n",
    "And here are the results for the 2-var model (rounded off to 5 d.p.):\n",
    "* Mean Squared Error: 6307853.47160\n",
    "* Root Mean Squared Error: 2511.54404\n",
    "* Mean Absolute Error: 1827.69689\n",
    "* R-Squared Score: 0.62278\n",
    "\n",
    "We can see that they are extremely close, with R^2 scores only differing by around 0.0022. Even though the MSE and RMSE go up slightly, the MAE actually falls slighly too   \n",
    "\n",
    "Thus, we conclude that Members is indeed not a very helpful metric for determining Rank, so it can be safely removed"
   ]
  },
  {
   "cell_type": "markdown",
   "id": "cf671fcd-b85e-40f4-9d39-4ea2be1d8b9b",
   "metadata": {},
   "source": [
    "### Retrieving the formula\n",
    "\n",
    "Now that we have our chosen model, let us retrieve the exact coefficients and intercepts that were used to generate it"
   ]
  },
  {
   "cell_type": "code",
   "execution_count": null,
   "id": "da769ab2-c38a-422e-9721-85060dd12769",
   "metadata": {},
   "outputs": [],
   "source": [
    "# Retrieve the coefficients and intercept\n",
    "coefficients_2var = linear_reg_model_2var.coef_\n",
    "intercept_2var = linear_reg_model_2var.intercept_\n",
    "\n",
    "# Construct the formula\n",
    "formula = f\"Rank = {intercept_2var:.2f} + \"\n",
    "for i, coef in enumerate(coefficients_2var):\n",
    "    formula += f\"({coef:.2f} * Predictor_{i+1}) + \"\n",
    "\n",
    "# Remove the trailing '+' and whitespace\n",
    "formula = formula[:-3]\n",
    "\n",
    "print(\"Formula:\", formula)"
   ]
  },
  {
   "cell_type": "markdown",
   "id": "c6388c94-d106-4767-86f0-305ffde05a0a",
   "metadata": {},
   "source": [
    "We can this see that:  \n",
    "Rank = 10629.83 + (-1127.91 * Score) + (0.48 * Popularity)"
   ]
  },
  {
   "cell_type": "markdown",
   "id": "0afa82a3-6bdc-438c-8eed-da9f0940d355",
   "metadata": {},
   "source": [
    "## Step 2.3: Polynomial Regression\n",
    "\n",
    "A polynomial regression is able to capture more complex patterns in the data. Maybe that will help us predict Rank better?"
   ]
  },
  {
   "cell_type": "markdown",
   "id": "a63db08d-586f-48fd-9736-605b45521751",
   "metadata": {},
   "source": [
    "### Degree-2 Model\n",
    "\n",
    "Let's try a model with degree 2, to see if it offers any improvements over a linear model"
   ]
  },
  {
   "cell_type": "code",
   "execution_count": null,
   "id": "a9517ad5-ec63-4227-8561-2bbee5722ea9",
   "metadata": {},
   "outputs": [],
   "source": [
    "from sklearn.preprocessing import PolynomialFeatures\n",
    "\n",
    "# Set the degree of the polynomial\n",
    "degree = 2"
   ]
  },
  {
   "cell_type": "markdown",
   "id": "9590fc61-ce3b-400c-9537-78b5ee184a65",
   "metadata": {},
   "source": [
    "We will be re-using the previous train and test sets, Predictor_2var and Response, except they will now be converted into polynomial features"
   ]
  },
  {
   "cell_type": "code",
   "execution_count": null,
   "id": "ff1e6a90-bbc5-4371-b51a-bb8a2c020e9b",
   "metadata": {},
   "outputs": [],
   "source": [
    "# Conversion of Predictor_2var_train into polynomial feature\n",
    "poly2_features = PolynomialFeatures(degree=degree)\n",
    "Predictor_2var_poly2 = poly2_features.fit_transform(Predictor_2var_train)\n",
    "\n",
    "# Conversion of Predictor_2var_test into polynomial feature\n",
    "Predictor_2var_test_poly2 = poly2_features.transform(Predictor_2var_test)"
   ]
  },
  {
   "cell_type": "markdown",
   "id": "8c750af2-bf67-4a96-b007-3c84fe3a8b91",
   "metadata": {},
   "source": [
    "We can then train the model using said polynomial features, and use it to make predictions on the training set for Rank"
   ]
  },
  {
   "cell_type": "code",
   "execution_count": null,
   "id": "a035e48a-e0fa-4fd7-99e2-0f6ce5b4c5ad",
   "metadata": {},
   "outputs": [],
   "source": [
    "# Training the model\n",
    "poly2_model = LinearRegression()\n",
    "poly2_model.fit(Predictor_2var_poly2, Response_train)\n",
    "\n",
    "# Predict Rank for test set\n",
    "Rank_pred_poly2_model = poly2_model.predict(Predictor_2var_test_poly2)"
   ]
  },
  {
   "cell_type": "markdown",
   "id": "11a1ad2f-f243-4ac9-acfe-897554029770",
   "metadata": {},
   "source": [
    "We then plot the resulting predictions to check if anything looks unusual"
   ]
  },
  {
   "cell_type": "code",
   "execution_count": null,
   "id": "e536f82e-1d7b-4f48-9d30-0ba5879d7cc8",
   "metadata": {},
   "outputs": [],
   "source": [
    "# Plotting the predictions\n",
    "f = plt.figure(figsize=(16, 8))\n",
    "plt.plot(Predictor_2var_test, Rank_pred_poly2_model, color='red', label='Polynomial Regression')\n",
    "plt.show()"
   ]
  },
  {
   "cell_type": "markdown",
   "id": "c26762f5-8f9b-4c3f-b4af-b944d397cf24",
   "metadata": {},
   "source": [
    "Now that we have the model, we calculate the same metrics as before\n",
    "\n",
    "1. Mean Squared Error (MSE): The average of the squared differences between the predicted values and the actual values\n",
    "2. Root Mean Squared Error (RMSE): A measure of the average magnitude of the errors in the predicted values\n",
    "3. Mean Absolute Error (MAE): The average of the absolute differences between the predicted values and the actual values\n",
    "4. Coefficient of Deterimination (R^2): The proportion of the variance in the target variable that is explained by the model"
   ]
  },
  {
   "cell_type": "code",
   "execution_count": null,
   "id": "549e70a5-80bf-40dd-a7f2-6056ada9ef59",
   "metadata": {},
   "outputs": [],
   "source": [
    "# Calculating mean squared error\n",
    "from sklearn.metrics import mean_squared_error\n",
    "mse_poly2 = mean_squared_error(Response_test, Rank_pred_poly2_model)\n",
    "print(f\"Mean Squared Error: {mse_poly2}\")\n",
    "\n",
    "# Calculaing root mean squared error\n",
    "rmse_poly2 = mean_squared_error(Response_test, Rank_pred_poly2_model, squared = False)\n",
    "print(f\"Root Mean Squared Error: {rmse_poly2}\")\n",
    "\n",
    "# Calculating mean absolute error\n",
    "from sklearn.metrics import mean_absolute_error\n",
    "mae_poly2 = mean_absolute_error(Response_test, Rank_pred_poly2_model)\n",
    "print(f\"Mean Absolute Error: {mae_poly2}\")\n",
    "\n",
    "# Calculating coefficient of determination\n",
    "from sklearn.metrics import r2_score\n",
    "r2_poly2 = r2_score(Response_test, Rank_pred_poly2_model)\n",
    "print(f\"R-squared Score: {r2_poly2}\")"
   ]
  },
  {
   "cell_type": "markdown",
   "id": "a19e518f-96d0-419a-a791-94a7dd94e35f",
   "metadata": {},
   "source": [
    "### Degree-3 Model\n",
    "\n",
    "There does seem to be some improvement, so perhaps an even higher degree will help more?"
   ]
  },
  {
   "cell_type": "code",
   "execution_count": null,
   "id": "a97afd27-59aa-4e78-9c8b-be814bfe486d",
   "metadata": {},
   "outputs": [],
   "source": [
    "from sklearn.preprocessing import PolynomialFeatures\n",
    "\n",
    "# Set the degree of the polynomial\n",
    "degree = 3"
   ]
  },
  {
   "cell_type": "markdown",
   "id": "b7f857d8-757e-4875-83e1-1706867e7318",
   "metadata": {},
   "source": [
    "We will be re-using the previous train and test sets, Predictor_2var and Response, except they will now be converted into polynomial features"
   ]
  },
  {
   "cell_type": "code",
   "execution_count": null,
   "id": "4eab682a-fdba-4e57-9ab7-692369aeea04",
   "metadata": {},
   "outputs": [],
   "source": [
    "# Conversion of Predictor_2var_train into polynomial feature\n",
    "poly3_features = PolynomialFeatures(degree=degree)\n",
    "Predictor_2var_poly3 = poly3_features.fit_transform(Predictor_2var_train)\n",
    "\n",
    "# Conversion of Predictor_2var_test into polynomial feature\n",
    "Predictor_2var_test_poly3 = poly3_features.transform(Predictor_2var_test)"
   ]
  },
  {
   "cell_type": "markdown",
   "id": "f3641dfb-e351-4c8c-94a6-87030f55a870",
   "metadata": {},
   "source": [
    "We can then train the model using said polynomial features, and use it to make predictions on the training set for Rank"
   ]
  },
  {
   "cell_type": "code",
   "execution_count": null,
   "id": "6efda4a3-c1eb-43c4-87ed-c566372ed6a3",
   "metadata": {},
   "outputs": [],
   "source": [
    "# Training the model\n",
    "poly3_model = LinearRegression()\n",
    "poly3_model.fit(Predictor_2var_poly3, Response_train)\n",
    "\n",
    "# Predict Rank for test set\n",
    "Rank_pred_poly3_model = poly3_model.predict(Predictor_2var_test_poly3)"
   ]
  },
  {
   "cell_type": "markdown",
   "id": "0f0952d2-1472-453c-8fa1-8febf4a8095f",
   "metadata": {},
   "source": [
    "We then plot the resulting predictions to check if anything looks unusual"
   ]
  },
  {
   "cell_type": "code",
   "execution_count": null,
   "id": "7677cfb5-e295-4ce2-abcd-40d00c7123d2",
   "metadata": {},
   "outputs": [],
   "source": [
    "# Plotting the predictions\n",
    "f = plt.figure(figsize=(16, 8))\n",
    "plt.plot(Predictor_2var_test, Rank_pred_poly3_model, color='red', label='Polynomial Regression')\n",
    "plt.show()"
   ]
  },
  {
   "cell_type": "markdown",
   "id": "eedd8bd2-04d7-45c6-a418-272222844477",
   "metadata": {},
   "source": [
    "Now that we have the model, same metrics, bla bla bla\n",
    "\n",
    "1. Mean Squared Error (MSE): The average of the squared differences between the predicted values and the actual values\n",
    "2. Root Mean Squared Error (RMSE): A measure of the average magnitude of the errors in the predicted values\n",
    "3. Mean Absolute Error (MAE): The average of the absolute differences between the predicted values and the actual values\n",
    "4. Coefficient of Deterimination (R^2): The proportion of the variance in the target variable that is explained by the model\n",
    "\n",
    "To calculate how good it is at predicting Rank"
   ]
  },
  {
   "cell_type": "code",
   "execution_count": null,
   "id": "c17193a1-cac5-4d1c-9ac5-434b27480427",
   "metadata": {},
   "outputs": [],
   "source": [
    "# Calculating mean squared error\n",
    "from sklearn.metrics import mean_squared_error\n",
    "mse_poly3 = mean_squared_error(Response_test, Rank_pred_poly3_model)\n",
    "print(f\"Mean Squared Error: {mse_poly3}\")\n",
    "\n",
    "# Calculaing root mean squared error\n",
    "rmse_poly3 = mean_squared_error(Response_test, Rank_pred_poly3_model, squared = False)\n",
    "print(f\"Root Mean Squared Error: {rmse_poly3}\")\n",
    "\n",
    "# Calculating mean absolute error\n",
    "from sklearn.metrics import mean_absolute_error\n",
    "mae_poly3 = mean_absolute_error(Response_test, Rank_pred_poly3_model)\n",
    "print(f\"Mean Absolute Error: {mae_poly3}\")\n",
    "\n",
    "# Calculating coefficient of determination\n",
    "from sklearn.metrics import r2_score\n",
    "r2_poly3 = r2_score(Response_test, Rank_pred_poly3_model)\n",
    "print(f\"R-squared Score: {r2_poly3}\")"
   ]
  },
  {
   "cell_type": "markdown",
   "id": "08001fad-c889-4ca9-9693-399562682144",
   "metadata": {},
   "source": [
    "### Evaluation\n",
    "\n",
    "The results are in! Let's see which model is the most accurate, out of all of them  \n",
    "All results will be rounded off the 5 d.p. for consistency  \n",
    "Also note that we will NOT be comparing against the 3-var linear regression model, because it was not trained using the 2-var train set, nor evaluated using the 2-var test set"
   ]
  },
  {
   "cell_type": "markdown",
   "id": "8d98c3a0-822c-4804-a8fe-b9d53fb14083",
   "metadata": {},
   "source": [
    "Here's what each metric means, in case you forgot\n",
    "> A lower MSE indicates better performance (0 lowest)  \n",
    "> A lower RMSE indicates better performance (0 lowest)  \n",
    "> A lower MAE indicates better performance (0 lowest)  \n",
    "> A higher R^2 indicates better performance (1 highest)  \n",
    "\n",
    "These are the results for the 2-var linear regression model:\n",
    "* Mean Squared Error: 6307853.47160\n",
    "* Root Mean Squared Error: 2511.54404\n",
    "* Mean Absolute Error: 1827.69689\n",
    "* R-Squared Score: 0.62278\n",
    "\n",
    "This is what we got for degree 2 polynomial regression:\n",
    "* Mean Squared Error: 5319071.67224\n",
    "* Root Mean Squared Error: 2306.31127\n",
    "* Mean Absolute Error: 1590.21457\n",
    "* R-Squared Score: 0.68191\n",
    "\n",
    "And this is what we ended up with going to degree 3 polynomial regression:\n",
    "* Mean Squared Error: 4852202.75217\n",
    "* Root Mean Squared Error: 2202.77161\n",
    "* Mean Absolute Error: 1550.07694\n",
    "* R-Squared Score: 0.70983\n",
    "\n",
    "Polynomial regression far outpaces both forms of linear regression (even the degree 2 model has a 0.06 point improvement in R^2, compared to 2-var linear regression). Degree 3 polynomial regression is the best model so far, sporting a further 0.02 point R^2 improvement over degree 2 polynomial regression  \n",
    "\n",
    "Due to the marginal accuracy increase derived from upping the degree (as well as the risk of overfitting the model), we have chosen to stop at degree 3 for now"
   ]
  },
  {
   "cell_type": "markdown",
   "id": "725fc46d-ae88-48b1-a18a-584d2a35f56b",
   "metadata": {},
   "source": [
    "### Retrieving the formula\n",
    "\n",
    "To end off, let us retrieve the formulas for our chosen linear and polynmial regression functions"
   ]
  },
  {
   "cell_type": "code",
   "execution_count": null,
   "id": "3940722e-fb74-4f83-9a87-dbc775720032",
   "metadata": {},
   "outputs": [],
   "source": [
    "# For linear regression\n",
    "# Retrieve the coefficients and intercept \n",
    "coefficients_2var = linear_reg_model_2var.coef_\n",
    "intercept_2var = linear_reg_model_2var.intercept_\n",
    "\n",
    "# Construct the formula\n",
    "formula = f\"Rank = {intercept_2var:.2f} + \"\n",
    "for i, coef in enumerate(coefficients_2var):\n",
    "    formula += f\"({coef:.2f} * Predictor_{i+1}) + \"\n",
    "\n",
    "# Remove the trailing '+' and whitespace\n",
    "formula = formula[:-3]\n",
    "\n",
    "print(\"Formula:\", formula)"
   ]
  },
  {
   "cell_type": "markdown",
   "id": "c15d384c-997c-4996-ae9f-f03f0911f0ee",
   "metadata": {},
   "source": [
    "The linear regression formula is thus:  \n",
    "Rank = 10629.83 + (-1127.91 * Score) + (0.48 * Popularity)"
   ]
  },
  {
   "cell_type": "code",
   "execution_count": null,
   "id": "74400e43-afd4-417b-bcb1-420908050f15",
   "metadata": {},
   "outputs": [],
   "source": [
    "# For polynomial regression\n",
    "# Extract coefficients and intercept\n",
    "coefficients_poly3 = poly3_model.coef_\n",
    "intercept_poly3 = poly3_model.intercept_\n",
    "\n",
    "# Construct the formula\n",
    "formula = f'y = {intercept_poly3:.2f}'\n",
    "for i, coef in enumerate(coefficients_poly3):\n",
    "    formula += f' + {coef:.2f} * x^{i+1}'\n",
    "\n",
    "print(\"Formula:\", formula)"
   ]
  },
  {
   "cell_type": "markdown",
   "id": "44a30445-f72f-4f46-9e99-bfae4b3c4cf6",
   "metadata": {},
   "source": [
    "The polynomial regression formula is thus:  \n",
    "Rank = 5009.94 + 2224.53 * x^2 + 3.10 * x^3 + -316.36 * x^4 + -0.50 * x^5 + -4.92 * x^7 + 0.02 * x^8"
   ]
  }
 ],
 "metadata": {
  "kernelspec": {
   "display_name": "Python 3 (ipykernel)",
   "language": "python",
   "name": "python3"
  },
  "language_info": {
   "codemirror_mode": {
    "name": "ipython",
    "version": 3
   },
   "file_extension": ".py",
   "mimetype": "text/x-python",
   "name": "python",
   "nbconvert_exporter": "python",
   "pygments_lexer": "ipython3",
   "version": "3.11.5"
  }
 },
 "nbformat": 4,
 "nbformat_minor": 5
}
