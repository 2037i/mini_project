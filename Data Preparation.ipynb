{
 "cells": [
  {
   "cell_type": "markdown",
   "id": "0bede181-17d5-4591-8fd1-5c1ea6763460",
   "metadata": {
    "tags": []
   },
   "source": [
    "# Data Preparation:\n",
    "\n",
    "Dataset from Kaggle : **\"MyAnimeList\"** by *Azathoth*  \n",
    "Source: https://www.kaggle.com/datasets/azathoth42/myanimelist/data (requires login)\n",
    "\n",
    "---\n",
    "\n",
    "### Essential Libraries\n",
    "\n",
    "Let us begin by importing the essential Python Libraries.\n",
    "\n",
    "> NumPy : Library for Numeric Computations in Python  \n",
    "> Pandas : Library for Data Acquisition and Preparation  \n",
    "> Matplotlib : Low-level library for Data Visualization  \n",
    "> Seaborn : Higher-level library for Data Visualization  "
   ]
  },
  {
   "cell_type": "code",
   "execution_count": null,
   "id": "d8486f6e-2454-43d1-be41-b8361d8a9675",
   "metadata": {},
   "outputs": [],
   "source": [
    "# Basic Libraries\n",
    "import numpy as np\n",
    "import pandas as pd\n",
    "import seaborn as sb\n",
    "import matplotlib.pyplot as plt # we only need pyplot\n",
    "sb.set() # set the default Seaborn style for graphics"
   ]
  },
  {
   "cell_type": "markdown",
   "id": "70e6c3f6-53c8-4814-9b3f-14f8693ea516",
   "metadata": {
    "tags": []
   },
   "source": [
    "---\n",
    "\n",
    "### Import the Dataset (UserList)\n",
    "\n",
    "The dataset is in CSV format; hence we use the `read_csv` function from Pandas.  \n",
    "Immediately after importing, take a quick look at the data using the `head` function."
   ]
  },
  {
   "cell_type": "code",
   "execution_count": null,
   "id": "c677c3ee-5f8f-4503-967d-4332e1a0fa36",
   "metadata": {
    "tags": []
   },
   "outputs": [],
   "source": [
    "userlist = pd.read_csv('DataSets/Raw Data/UserList.csv')\n",
    "userlist.head()"
   ]
  },
  {
   "cell_type": "markdown",
   "id": "b40fe8d8-2b08-41fc-bc32-61566cce8976",
   "metadata": {
    "tags": []
   },
   "source": [
    "Description of the dataset, as available on Kaggle, is as follows.\n",
    "\n",
    "\n",
    "> **username**         : user name\n",
    "> **user_id**            : ID for each user      \n",
    "> **user_watching**    : how many anime currently the user is watching     \n",
    "> **user_completed**   : how many anime watched by the user \n",
    "> **user_onhold**        : how many anime is watching halfway   \n",
    "> **user_dropped**             : how many anime the user remove from his list \n",
    "> **user_plantowatch**           : how many anime the user added to his watch list    \n",
    "> **user_days_spent_watching**         : How much time the user spend on watching anime \n",
    "> **gender**           : user gender    \n",
    "> **location**           : where is the user from \n",
    "> **birth_date**     : user age \n",
    "> **access_rank**            :   ??\n",
    "> **join_date**         : when the user join the community    \n",
    "> **last_online**           : when is user last seen \n",
    "> **stats_mean_score**            : average score the user rate for the anime \n",
    "> **stats_rewatched**        : how many episode the user rewatch\n",
    "> **stats_episodes**             : how many episode the user completed\n",
    "---\n",
    "\n",
    "Check the vital statistics of the dataset using the `type` and `shape` attributes."
   ]
  },
  {
   "cell_type": "code",
   "execution_count": null,
   "id": "5f724fbe-04ca-4a41-bc73-75e7642da727",
   "metadata": {
    "tags": []
   },
   "outputs": [],
   "source": [
    "print(\"Data type : \", type(userlist))\n",
    "print(\"Data dims : \", userlist.shape)"
   ]
  },
  {
   "cell_type": "markdown",
   "id": "4e6062d4-9a57-436a-a088-0a83c1ae20b7",
   "metadata": {},
   "source": [
    "Check the variables (and their types) in the dataset using the `dtypes` attribute."
   ]
  },
  {
   "cell_type": "code",
   "execution_count": null,
   "id": "a9606662-0f99-4e0b-82a8-e6b377b556d0",
   "metadata": {
    "tags": []
   },
   "outputs": [],
   "source": [
    "userlist.info()"
   ]
  },
  {
   "cell_type": "markdown",
   "id": "9551ce66-7302-432d-abbe-5258857cf2a5",
   "metadata": {
    "tags": []
   },
   "source": [
    "---\n",
    "\n",
    "### Import the Dataset (AnimeList)\n",
    "\n",
    "The dataset is in CSV format; hence we use the `read_csv` function from Pandas.  \n",
    "Immediately after importing, take a quick look at the data using the `head` function."
   ]
  },
  {
   "cell_type": "code",
   "execution_count": null,
   "id": "012c1bc0-c7fe-4e5e-b698-23d5f45f9ca2",
   "metadata": {
    "tags": []
   },
   "outputs": [],
   "source": [
    "animelist = pd.read_csv('DataSets/Raw Data/AnimeList.csv')\n",
    "animelist.head()\n"
   ]
  },
  {
   "cell_type": "markdown",
   "id": "7d76b827-dbdf-46fc-b715-ab9b6f277271",
   "metadata": {
    "tags": []
   },
   "source": [
    "Description of the dataset, as available on Kaggle, is as follows.\n",
    "\n",
    "\n",
    "> **anime_id**         : ID for each anime show  \n",
    "> **title**            : Anime title    \n",
    "> **title_english**    : Anime title in english     \n",
    "> **title_japanese**   : Anime title in japanese   \n",
    "> **image_url**        : Front poster   \n",
    "> **type**             : Anime types (TV, Movie, etc)    \n",
    "> **source**           : Anime source (Manga, Original)    \n",
    "> **episodes**         : How many episodes   \n",
    "> **status**           : Current status (airing, finieshed airinig)    \n",
    "> **airing**           : Is it currently airing    \n",
    "> **aired_string**     : Start date and finished date    \n",
    "> **aired**            : Start date and finished date in java   \n",
    "> **duration**         : How long is the anime(episode or movie)     \n",
    "> **rating**           : Anime rating (pg13, NC16, M18, R21)   \n",
    "> **score**            : Overall score of the anime (out of 10)     \n",
    "> **scored_by**        : How many user give the score to the anime  \n",
    "> **rank**             : Rank base on the score of the anime     \n",
    "> **popularity**       : Rank base on how many people watch the anime  \n",
    "> **members**          : How many people watch the anime  \n",
    "> **favorites**        : How many people favorite the anime     \n",
    "> **background**       : Background of the anime   \n",
    "> **premiered**        : Which season the anime come out    \n",
    "> **broadcast**        : Which day it broadcast   \n",
    "> **related**          : Are there any sequel or prequel  \n",
    "> **producer**         : Where the anime produce     \n",
    "> **licensor**         : Which film it came from     \n",
    "> **studio**           : which studio animated the anime   \n",
    "> **genre**            : what are the genres in the anime   \n",
    "> **opening_theme**    : opening song   \n",
    "> **ending_theme**     : endinng song    \n",
    "---\n",
    "\n",
    "Check the vital statistics of the dataset using the `type` and `shape` attributes."
   ]
  },
  {
   "cell_type": "code",
   "execution_count": null,
   "id": "553d943b-a42b-41ab-b03c-871f4a870312",
   "metadata": {
    "tags": []
   },
   "outputs": [],
   "source": [
    "print(\"Data type : \", type(animelist))\n",
    "print(\"Data dims : \", animelist.shape)"
   ]
  },
  {
   "cell_type": "markdown",
   "id": "4c968766-8cef-425e-af09-e56f57d4b683",
   "metadata": {},
   "source": [
    "Check the variables (and their types) in the dataset using the `dtypes` attribute."
   ]
  },
  {
   "cell_type": "code",
   "execution_count": null,
   "id": "aa025f54-4b39-458a-8f33-6f834492ff8c",
   "metadata": {
    "tags": []
   },
   "outputs": [],
   "source": [
    "animelist.info()\n"
   ]
  },
  {
   "cell_type": "markdown",
   "id": "6aeb2dc1-39e4-4075-aa3a-cef5767bec69",
   "metadata": {
    "tags": []
   },
   "source": [
    "## Clean Data (AnimeList)"
   ]
  },
  {
   "cell_type": "markdown",
   "id": "6b06f41b-24e9-4674-b638-c1cd9b328f5f",
   "metadata": {},
   "source": [
    "how might we (action) for (target audiences) in order to (outcome, what are the result we would like to see)\n",
    "\n",
    "e.g. \n",
    "how might we recommend the top 20 anime shows for anime beginner?\n",
    "how might we recommend the top 10 anime shows in winter season for anime user?"
   ]
  },
  {
   "cell_type": "markdown",
   "id": "2fa0c77b-5a83-47b7-9abc-1ab69c698e0c",
   "metadata": {
    "tags": []
   },
   "source": [
    "### Gathering information \n",
    "---\n",
    "\n",
    "> Describe numeric      \n",
    "> Desccirbe object      \n",
    "> Display columns     "
   ]
  },
  {
   "cell_type": "code",
   "execution_count": null,
   "id": "9817e6bc-0a70-431c-8567-c53f73c7d8e3",
   "metadata": {
    "tags": []
   },
   "outputs": [],
   "source": [
    "## for numeric data\n",
    "animelist.describe()"
   ]
  },
  {
   "cell_type": "code",
   "execution_count": null,
   "id": "572df98e-95fe-4148-adcf-f2f264bcfa21",
   "metadata": {
    "tags": []
   },
   "outputs": [],
   "source": [
    "## for data that is object\n",
    "animelist.describe(include=object)"
   ]
  },
  {
   "cell_type": "code",
   "execution_count": null,
   "id": "121330ee-d633-4996-90be-0e8ae2956abd",
   "metadata": {
    "tags": []
   },
   "outputs": [],
   "source": [
    "## what are the columns involved in the dataset\n",
    "animelist.columns"
   ]
  },
  {
   "cell_type": "markdown",
   "id": "fb2ab278-8890-4394-be44-25cfb2a42055",
   "metadata": {
    "tags": []
   },
   "source": [
    "---\n",
    "### Premiered \n",
    "\n",
    "> Convert Null value to binary indicator (1 or 0)"
   ]
  },
  {
   "cell_type": "code",
   "execution_count": null,
   "id": "c21ea1b8-02fe-4d1f-bff7-80346b4b6b21",
   "metadata": {
    "tags": []
   },
   "outputs": [],
   "source": [
    "## creates a new column \"isPremiered\" that contains 1 for rows where the \"premiered\" column is null and 0 for rows where it is not null. \n",
    "##This new column acts as a binary indicator, showing whether an anime has a premiere date or not.\n",
    "animelist[\"isPremiered\"] = animelist[\"premiered\"].isnull().astype(int)"
   ]
  },
  {
   "cell_type": "code",
   "execution_count": null,
   "id": "29af9569-8be7-456e-9268-a64320a0e205",
   "metadata": {
    "tags": []
   },
   "outputs": [],
   "source": [
    "animelist.isPremiered.info()"
   ]
  },
  {
   "cell_type": "markdown",
   "id": "252f25bc-9dec-48e2-887e-5dfa77648716",
   "metadata": {
    "tags": []
   },
   "source": [
    "### Studio filtering\n",
    "Filter the studio that is less popular (<40) and combine into one \"SmallStudio\""
   ]
  },
  {
   "cell_type": "code",
   "execution_count": null,
   "id": "4f148b2d-cc2d-41f0-a638-5a91c19f0c40",
   "metadata": {
    "tags": []
   },
   "outputs": [],
   "source": [
    "## calculate all the value from each studio\n",
    "\n",
    "## studio that is empty, replace with unknown\n",
    "animelist[\"studio\"] = animelist[\"studio\"].fillna(\"unknown\")\n",
    "studio_counts = animelist.studio.value_counts()\n",
    "studio_counts"
   ]
  },
  {
   "cell_type": "code",
   "execution_count": null,
   "id": "36ed0794-7ddb-4e31-a793-d8aaa680c01a",
   "metadata": {
    "scrolled": true,
    "tags": []
   },
   "outputs": [],
   "source": [
    "# group studio less than 40\n",
    "minor = studio_counts[studio_counts < 40].index.to_list()\n",
    "minor"
   ]
  },
  {
   "cell_type": "code",
   "execution_count": null,
   "id": "222dcfbf-45f6-40c0-89c6-84a012fc6955",
   "metadata": {
    "scrolled": true,
    "tags": []
   },
   "outputs": [],
   "source": [
    "## combine those minor studio to one \"SmallStudio\"\n",
    "animelist[\"studio\"] = animelist[\"studio\"].apply(lambda x : \"SmallStudio\" if x in minor else x)\n",
    "animelist.studio.value_counts()"
   ]
  },
  {
   "cell_type": "markdown",
   "id": "8252d813-1697-4fea-8bcc-27fe59b72505",
   "metadata": {
    "tags": []
   },
   "source": [
    "### Drop the data that is not important\n",
    "TODO: Add back producers\n",
    "---\n",
    "|  |             **Unnecessory data**          |      |\n",
    "|:---------------:|:---------------:|:---------------:|\n",
    "| anime_id        | background      | opening_theme   |\n",
    "| title_english   | premiered       | ending_theme    |\n",
    "| title_japanese  | boardcast       | air_string      |\n",
    "| title_synonyms  | producer        |                 |\n",
    "| image_url       | lincensor       |                 |"
   ]
  },
  {
   "cell_type": "code",
   "execution_count": null,
   "id": "6659bc9c-131b-4170-9c77-7255e999f5dc",
   "metadata": {
    "tags": []
   },
   "outputs": [],
   "source": [
    "## drop useless dat\n",
    "animelist.drop(columns=['anime_id','title_english',  'title_japanese','title_synonyms', 'image_url', 'background',\n",
    "       'premiered', 'broadcast','producer','licensor','opening_theme', 'ending_theme','aired_string' ], inplace=True)"
   ]
  },
  {
   "cell_type": "code",
   "execution_count": null,
   "id": "b3efa3eb-0aec-4e3b-8aec-75245e675554",
   "metadata": {
    "tags": []
   },
   "outputs": [],
   "source": [
    "## after dropping the columns \n",
    "animelist.shape"
   ]
  },
  {
   "cell_type": "code",
   "execution_count": null,
   "id": "cb3f140d-af48-4231-b90c-2d6d1c943c9a",
   "metadata": {
    "tags": []
   },
   "outputs": [],
   "source": [
    "animelist.columns"
   ]
  },
  {
   "cell_type": "markdown",
   "id": "ba2b03fa-c8cb-4b9b-a7d9-a74be4e186c7",
   "metadata": {
    "tags": []
   },
   "source": [
    "### Split aired date (from and to)\n",
    "--- \n",
    "aired contain { from: yyyy-mm-dd, to: yyyy-mm-dd}\n",
    "\n",
    "split into:\n",
    "aired_from -> yyyy-mm-dd\n",
    "aired_to   -> yyyy-mm-dd\n",
    "\n",
    "calculate the number of days for the episode\n",
    "calculate the how frequent it aired"
   ]
  },
  {
   "cell_type": "code",
   "execution_count": null,
   "id": "8e8540f6-e1bb-4ea3-9eec-3e9226ec6285",
   "metadata": {
    "tags": []
   },
   "outputs": [],
   "source": [
    "# Splitting the 'aired' column into 'from' and 'to' columns\n",
    "animelist[['aired_from', 'aired_to']] = animelist['aired'].str.extract(r\"'from': '(.*?)', 'to': '(.*?)'\")\n",
    "\n",
    "# Displaying the DataFrame with the new columns\n",
    "print(animelist[['aired_from', 'aired_to']])"
   ]
  },
  {
   "cell_type": "code",
   "execution_count": null,
   "id": "889ad54e-ded1-4841-9949-09b118872b0f",
   "metadata": {
    "tags": []
   },
   "outputs": [],
   "source": [
    "animelist.info()"
   ]
  },
  {
   "cell_type": "markdown",
   "id": "56204f44-93aa-441a-9032-8c09a8f014f6",
   "metadata": {
    "tags": []
   },
   "source": [
    "### Split the Genres to columns\n",
    "---"
   ]
  },
  {
   "cell_type": "code",
   "execution_count": null,
   "id": "ded21918-e004-4518-b1a6-5a1f6e0a678e",
   "metadata": {
    "tags": []
   },
   "outputs": [],
   "source": [
    "## fill the missing value 'Nan' with 'NA'\n",
    "animelist.genre = animelist.genre.fillna(\"NA\")"
   ]
  },
  {
   "cell_type": "code",
   "execution_count": null,
   "id": "8144eaa7-b876-4390-b6da-12d1256c02bf",
   "metadata": {
    "tags": []
   },
   "outputs": [],
   "source": [
    "## split the genres by the parameter ','\n",
    "genre_animelist = animelist['genre'].str.get_dummies(sep=',')\n",
    "genre_animelist"
   ]
  },
  {
   "cell_type": "code",
   "execution_count": null,
   "id": "d4491bb5-83cc-4675-8496-cf17b48f969e",
   "metadata": {
    "scrolled": true,
    "tags": []
   },
   "outputs": [],
   "source": [
    "genre_animelist.info()"
   ]
  },
  {
   "cell_type": "code",
   "execution_count": null,
   "id": "0087eef3-cc59-46a2-86af-39ae8a00ef1b",
   "metadata": {
    "tags": []
   },
   "outputs": [],
   "source": [
    "## combining the animelist data and genre data into animelist_df\n",
    "animelist_df = pd.concat([animelist, genre_animelist], axis=1)\n",
    "animelist_df.head()"
   ]
  },
  {
   "cell_type": "code",
   "execution_count": null,
   "id": "931de186-0984-4b46-af39-4b5659f3e44b",
   "metadata": {
    "tags": []
   },
   "outputs": [],
   "source": [
    "## remove genre columns \n",
    "animelist_df.drop(columns=[\"genre\"], inplace=True)\n",
    "animelist_df"
   ]
  },
  {
   "cell_type": "code",
   "execution_count": null,
   "id": "d0ef0721-d79a-4b14-a125-c04e1ac95ce3",
   "metadata": {
    "tags": []
   },
   "outputs": [],
   "source": [
    "animelist_df.info()"
   ]
  },
  {
   "cell_type": "markdown",
   "id": "98116925-f9c5-4902-8807-1ac623323955",
   "metadata": {
    "tags": []
   },
   "source": [
    "### Check value contain any NULL\n",
    "---"
   ]
  },
  {
   "cell_type": "code",
   "execution_count": null,
   "id": "fcf0cf61-2ef7-486f-b5ac-6f1f1d08df0e",
   "metadata": {
    "scrolled": true,
    "tags": []
   },
   "outputs": [],
   "source": [
    "# let's make sure no null values\n",
    "for col in animelist_df:\n",
    "    print(f\" {col}         | has ({animelist_df[col].isnull().sum()})\")\n",
    "    \n",
    "    \n",
    "## below table we can see:\n",
    "## rating have 544 'Nan'\n",
    "## rank have 1574 'Nan'\n",
    "## aired_from have 2191 'Nan'\n",
    "## aired-to have 2191 'Nan'"
   ]
  },
  {
   "cell_type": "code",
   "execution_count": null,
   "id": "37ef5d53-7cfb-41e4-bb2c-c659ce5fd4ec",
   "metadata": {
    "tags": []
   },
   "outputs": [],
   "source": [
    "## count the total for each rating\n",
    "animelist_df.rating.value_counts()"
   ]
  },
  {
   "cell_type": "code",
   "execution_count": null,
   "id": "32af0567-3583-49f5-90f7-d3a159d7a7bb",
   "metadata": {
    "tags": []
   },
   "outputs": [],
   "source": [
    "## ensure the rating is at least PG13\n",
    "animelist_df['rating'].fillna(\"G - All Ages\",inplace=True)\n",
    "\n",
    "## convert the rank to the max rank (prevent skewness)\n",
    "animelist_df['rank'].fillna(animelist_df['rank'].max(), inplace=True)\n",
    "\n",
    "## convert 'Nan' to None for aired dates.\n",
    "animelist_df['aired_from'].fillna(\"Not aired\",inplace=True)\n",
    "animelist_df['aired_to'].fillna(\"Not aired\",inplace=True)\n",
    "\n",
    "##find out whether aired time and primied have relation"
   ]
  },
  {
   "cell_type": "code",
   "execution_count": null,
   "id": "3fc969d8-04c0-4242-9192-f68a40aa6339",
   "metadata": {
    "tags": []
   },
   "outputs": [],
   "source": [
    "# let's double confirmed there are no null values\n",
    "for col in animelist_df:\n",
    "    print(f\" {col}         | has ({animelist_df[col].isnull().sum()})\")\n",
    "    "
   ]
  },
  {
   "cell_type": "markdown",
   "id": "593b3e94-b089-4ff5-9be6-6b85fb06bed8",
   "metadata": {
    "tags": []
   },
   "source": [
    "### Convert to new csv file.\n",
    "---\n"
   ]
  },
  {
   "cell_type": "code",
   "execution_count": null,
   "id": "1545f7c0-4adf-4840-ab5e-8f093fd8e84b",
   "metadata": {
    "tags": []
   },
   "outputs": [],
   "source": [
    "#animelist_df.to_csv('outV2.csv', index=False) "
   ]
  },
  {
   "cell_type": "markdown",
   "id": "8f7a0093-684d-4db8-8146-3d45b077934f",
   "metadata": {},
   "source": [
    "### if have other data need to be clean\n",
    "---"
   ]
  },
  {
   "cell_type": "code",
   "execution_count": null,
   "id": "a9ba1c45-306d-44a4-876f-a9c33c1a42fe",
   "metadata": {},
   "outputs": [],
   "source": []
  },
  {
   "cell_type": "markdown",
   "id": "a835aa18-7be3-4ab2-b9e3-4884895247da",
   "metadata": {},
   "source": [
    "## Dealing with Related Column"
   ]
  },
  {
   "cell_type": "markdown",
   "id": "d862db97-2ffd-449b-ab1a-a651adecef44",
   "metadata": {},
   "source": [
    "### Exploring JSON Structure for each data unit"
   ]
  },
  {
   "cell_type": "code",
   "execution_count": null,
   "id": "28b2c807-f858-4287-adca-b0865b8921c1",
   "metadata": {},
   "outputs": [],
   "source": [
    "related_cell0 = animelist_df[\"related\"][0]\n",
    "related_cell_mod = related_cell0.replace(\"'\", \"\\\"\")\n",
    "related_cell_mod"
   ]
  },
  {
   "cell_type": "code",
   "execution_count": null,
   "id": "7d1f895f-2caf-4700-9f7c-11f94763f03c",
   "metadata": {},
   "outputs": [],
   "source": [
    "import json\n",
    "related_dict = json.loads(related_cell_mod)\n",
    "related_dict['Sequel'][0]['type']"
   ]
  },
  {
   "cell_type": "markdown",
   "id": "4bccf211-eb72-4aed-8f3e-9190830354e4",
   "metadata": {},
   "source": [
    "### Testing with a sample df with 5 rows"
   ]
  },
  {
   "cell_type": "code",
   "execution_count": 144,
   "id": "d5687044-12c9-4e45-8ab0-f124d4c33f44",
   "metadata": {},
   "outputs": [
    {
     "data": {
      "text/html": [
       "<div>\n",
       "<style scoped>\n",
       "    .dataframe tbody tr th:only-of-type {\n",
       "        vertical-align: middle;\n",
       "    }\n",
       "\n",
       "    .dataframe tbody tr th {\n",
       "        vertical-align: top;\n",
       "    }\n",
       "\n",
       "    .dataframe thead th {\n",
       "        text-align: right;\n",
       "    }\n",
       "</style>\n",
       "<table border=\"1\" class=\"dataframe\">\n",
       "  <thead>\n",
       "    <tr style=\"text-align: right;\">\n",
       "      <th></th>\n",
       "      <th>title</th>\n",
       "      <th>related</th>\n",
       "    </tr>\n",
       "  </thead>\n",
       "  <tbody>\n",
       "    <tr>\n",
       "      <th>10</th>\n",
       "      <td>Junjou Romantica 2</td>\n",
       "      <td>{'Adaptation': [{'mal_id': 765, 'type': 'manga...</td>\n",
       "    </tr>\n",
       "    <tr>\n",
       "      <th>11</th>\n",
       "      <td>Kaichou wa Maid-sama!</td>\n",
       "      <td>{'Adaptation': [{'mal_id': 2921, 'type': 'mang...</td>\n",
       "    </tr>\n",
       "    <tr>\n",
       "      <th>12</th>\n",
       "      <td>Sekaiichi Hatsukoi 2</td>\n",
       "      <td>{'Adaptation': [{'mal_id': 10309, 'type': 'man...</td>\n",
       "    </tr>\n",
       "    <tr>\n",
       "      <th>13</th>\n",
       "      <td>Tonari no Kaibutsu-kun</td>\n",
       "      <td>{'Adaptation': [{'mal_id': 13702, 'type': 'man...</td>\n",
       "    </tr>\n",
       "    <tr>\n",
       "      <th>14</th>\n",
       "      <td>Bleach</td>\n",
       "      <td>{'Adaptation': [{'mal_id': 12, 'type': 'manga'...</td>\n",
       "    </tr>\n",
       "    <tr>\n",
       "      <th>15</th>\n",
       "      <td>Chobits</td>\n",
       "      <td>{'Adaptation': [{'mal_id': 107, 'type': 'manga...</td>\n",
       "    </tr>\n",
       "    <tr>\n",
       "      <th>16</th>\n",
       "      <td>Kimi ni Todoke</td>\n",
       "      <td>{'Adaptation': [{'mal_id': 3378, 'type': 'mang...</td>\n",
       "    </tr>\n",
       "    <tr>\n",
       "      <th>17</th>\n",
       "      <td>Naruto: Shippuuden</td>\n",
       "      <td>{'Adaptation': [{'mal_id': 11, 'type': 'manga'...</td>\n",
       "    </tr>\n",
       "    <tr>\n",
       "      <th>18</th>\n",
       "      <td>Ranma ½</td>\n",
       "      <td>{'Adaptation': [{'mal_id': 23, 'type': 'manga'...</td>\n",
       "    </tr>\n",
       "    <tr>\n",
       "      <th>19</th>\n",
       "      <td>Toradora!</td>\n",
       "      <td>{'Adaptation': [{'mal_id': 7149, 'type': 'mang...</td>\n",
       "    </tr>\n",
       "  </tbody>\n",
       "</table>\n",
       "</div>"
      ],
      "text/plain": [
       "                     title                                            related\n",
       "10      Junjou Romantica 2  {'Adaptation': [{'mal_id': 765, 'type': 'manga...\n",
       "11   Kaichou wa Maid-sama!  {'Adaptation': [{'mal_id': 2921, 'type': 'mang...\n",
       "12    Sekaiichi Hatsukoi 2  {'Adaptation': [{'mal_id': 10309, 'type': 'man...\n",
       "13  Tonari no Kaibutsu-kun  {'Adaptation': [{'mal_id': 13702, 'type': 'man...\n",
       "14                  Bleach  {'Adaptation': [{'mal_id': 12, 'type': 'manga'...\n",
       "15                 Chobits  {'Adaptation': [{'mal_id': 107, 'type': 'manga...\n",
       "16          Kimi ni Todoke  {'Adaptation': [{'mal_id': 3378, 'type': 'mang...\n",
       "17      Naruto: Shippuuden  {'Adaptation': [{'mal_id': 11, 'type': 'manga'...\n",
       "18                 Ranma ½  {'Adaptation': [{'mal_id': 23, 'type': 'manga'...\n",
       "19               Toradora!  {'Adaptation': [{'mal_id': 7149, 'type': 'mang..."
      ]
     },
     "execution_count": 144,
     "metadata": {},
     "output_type": "execute_result"
    }
   ],
   "source": [
    "related_df = animelist_df[[\"title\",\"related\"]]\n",
    "test_related = related_df[10:20]\n",
    "test_related"
   ]
  },
  {
   "cell_type": "code",
   "execution_count": 167,
   "id": "39b4fd5d-a3c0-4c04-beb8-94bf59eeb5d3",
   "metadata": {},
   "outputs": [
    {
     "data": {
      "text/html": [
       "<div>\n",
       "<style scoped>\n",
       "    .dataframe tbody tr th:only-of-type {\n",
       "        vertical-align: middle;\n",
       "    }\n",
       "\n",
       "    .dataframe tbody tr th {\n",
       "        vertical-align: top;\n",
       "    }\n",
       "\n",
       "    .dataframe thead th {\n",
       "        text-align: right;\n",
       "    }\n",
       "</style>\n",
       "<table border=\"1\" class=\"dataframe\">\n",
       "  <thead>\n",
       "    <tr style=\"text-align: right;\">\n",
       "      <th></th>\n",
       "      <th>title</th>\n",
       "      <th>Adaptation</th>\n",
       "      <th>Sequel</th>\n",
       "      <th>Side story</th>\n",
       "      <th>Alternative version</th>\n",
       "      <th>Prequel</th>\n",
       "      <th>Summary</th>\n",
       "      <th>Other</th>\n",
       "      <th>Spin-off</th>\n",
       "      <th>Alternative setting</th>\n",
       "      <th>Character</th>\n",
       "      <th>Parent story</th>\n",
       "      <th>Full story</th>\n",
       "    </tr>\n",
       "  </thead>\n",
       "  <tbody>\n",
       "    <tr>\n",
       "      <th>0</th>\n",
       "      <td>Inu x Boku SS</td>\n",
       "      <td>1</td>\n",
       "      <td>1</td>\n",
       "      <td>0</td>\n",
       "      <td>0</td>\n",
       "      <td>0</td>\n",
       "      <td>0</td>\n",
       "      <td>0</td>\n",
       "      <td>0</td>\n",
       "      <td>0</td>\n",
       "      <td>0</td>\n",
       "      <td>0</td>\n",
       "      <td>0</td>\n",
       "    </tr>\n",
       "    <tr>\n",
       "      <th>1</th>\n",
       "      <td>Seto no Hanayome</td>\n",
       "      <td>1</td>\n",
       "      <td>1</td>\n",
       "      <td>1</td>\n",
       "      <td>1</td>\n",
       "      <td>0</td>\n",
       "      <td>0</td>\n",
       "      <td>0</td>\n",
       "      <td>0</td>\n",
       "      <td>0</td>\n",
       "      <td>0</td>\n",
       "      <td>0</td>\n",
       "      <td>0</td>\n",
       "    </tr>\n",
       "    <tr>\n",
       "      <th>2</th>\n",
       "      <td>Shugo Chara!! Doki</td>\n",
       "      <td>1</td>\n",
       "      <td>1</td>\n",
       "      <td>0</td>\n",
       "      <td>0</td>\n",
       "      <td>1</td>\n",
       "      <td>0</td>\n",
       "      <td>0</td>\n",
       "      <td>0</td>\n",
       "      <td>0</td>\n",
       "      <td>0</td>\n",
       "      <td>0</td>\n",
       "      <td>0</td>\n",
       "    </tr>\n",
       "    <tr>\n",
       "      <th>3</th>\n",
       "      <td>Princess Tutu</td>\n",
       "      <td>1</td>\n",
       "      <td>0</td>\n",
       "      <td>0</td>\n",
       "      <td>0</td>\n",
       "      <td>0</td>\n",
       "      <td>1</td>\n",
       "      <td>0</td>\n",
       "      <td>0</td>\n",
       "      <td>0</td>\n",
       "      <td>0</td>\n",
       "      <td>0</td>\n",
       "      <td>0</td>\n",
       "    </tr>\n",
       "    <tr>\n",
       "      <th>4</th>\n",
       "      <td>Bakuman. 3rd Season</td>\n",
       "      <td>1</td>\n",
       "      <td>0</td>\n",
       "      <td>0</td>\n",
       "      <td>0</td>\n",
       "      <td>2</td>\n",
       "      <td>0</td>\n",
       "      <td>1</td>\n",
       "      <td>0</td>\n",
       "      <td>0</td>\n",
       "      <td>0</td>\n",
       "      <td>0</td>\n",
       "      <td>0</td>\n",
       "    </tr>\n",
       "  </tbody>\n",
       "</table>\n",
       "</div>"
      ],
      "text/plain": [
       "                 title  Adaptation  Sequel  Side story  Alternative version  \\\n",
       "0        Inu x Boku SS           1       1           0                    0   \n",
       "1     Seto no Hanayome           1       1           1                    1   \n",
       "2   Shugo Chara!! Doki           1       1           0                    0   \n",
       "3        Princess Tutu           1       0           0                    0   \n",
       "4  Bakuman. 3rd Season           1       0           0                    0   \n",
       "\n",
       "   Prequel  Summary  Other  Spin-off  Alternative setting  Character  \\\n",
       "0        0        0      0         0                    0          0   \n",
       "1        0        0      0         0                    0          0   \n",
       "2        1        0      0         0                    0          0   \n",
       "3        0        1      0         0                    0          0   \n",
       "4        2        0      1         0                    0          0   \n",
       "\n",
       "   Parent story  Full story  \n",
       "0             0           0  \n",
       "1             0           0  \n",
       "2             0           0  \n",
       "3             0           0  \n",
       "4             0           0  "
      ]
     },
     "execution_count": 167,
     "metadata": {},
     "output_type": "execute_result"
    }
   ],
   "source": [
    "\n",
    "related_dict = {}\n",
    "related_dict['title']=[]\n",
    "\n",
    "related_row_dict_list = [];\n",
    "\n",
    "for i, related_row in enumerate(related_df['related']):\n",
    "    # Original JSON data used single quotation, and double quotes inside values\n",
    "    # According to JSON guidelines, strings should use double quotes, we will convert double quotes inside to single quotes\n",
    "    related_row = related_row.replace(\"\\\"\", \"(temp_double_quotes)\")\n",
    "    related_row = related_row.replace(\"'\", \"\\\"\")\n",
    "    related_row = related_row.replace(\"(temp_double_quotes)\", \"'\")\n",
    "    \n",
    "    # Convert each row into its own dictionary\n",
    "    related_row_dict = json.loads(related_row)\n",
    "    related_row_dict_list.append(related_row_dict)\n",
    "\n",
    "    # Fill in title list\n",
    "    related_dict['title'].append(related_df['title'].iloc[i])\n",
    "\n",
    "    # Fill keys with all unique relations\n",
    "    for relation in related_row_dict:\n",
    "        if not relation in related_dict.keys():\n",
    "            related_dict[relation] = []\n",
    "\n",
    "for related_row_dict in related_row_dict_list:\n",
    "    for relation in related_dict:\n",
    "        if relation=='title': \n",
    "            continue\n",
    "        if relation in related_row_dict:\n",
    "            related_dict[relation].append(len(list(related_row_dict[relation])))\n",
    "        else:\n",
    "            related_dict[relation].append(0)\n",
    "related_df_separated = pd.DataFrame.from_dict(related_dict)\n",
    "related_df_separated.head()"
   ]
  },
  {
   "cell_type": "markdown",
   "id": "04a8ee6d-fc20-4bba-bf79-80c13ef5fde5",
   "metadata": {},
   "source": [
    "### Sum each column to find how many of each type of relation there are"
   ]
  },
  {
   "cell_type": "code",
   "execution_count": 168,
   "id": "a8dd20b7-209e-4a7c-af35-b55cab43bad4",
   "metadata": {},
   "outputs": [
    {
     "data": {
      "text/plain": [
       "{'Adaptation': 4758,\n",
       " 'Sequel': 2550,\n",
       " 'Side story': 1700,\n",
       " 'Alternative version': 1631,\n",
       " 'Prequel': 2535,\n",
       " 'Summary': 422,\n",
       " 'Other': 2996,\n",
       " 'Spin-off': 573,\n",
       " 'Alternative setting': 715,\n",
       " 'Character': 371,\n",
       " 'Parent story': 1923,\n",
       " 'Full story': 437}"
      ]
     },
     "execution_count": 168,
     "metadata": {},
     "output_type": "execute_result"
    }
   ],
   "source": [
    "relation_counts = {}\n",
    "for column in related_df_separated:\n",
    "    if column=='title':\n",
    "        continue\n",
    "    else:\n",
    "        relation_counts[column] = related_df_separated[column].sum()\n",
    "relation_counts        "
   ]
  },
  {
   "cell_type": "code",
   "execution_count": null,
   "id": "e1490496-775a-48f9-a248-71a10b3ed780",
   "metadata": {},
   "outputs": [],
   "source": []
  }
 ],
 "metadata": {
  "kernelspec": {
   "display_name": "Python 3 (ipykernel)",
   "language": "python",
   "name": "python3"
  },
  "language_info": {
   "codemirror_mode": {
    "name": "ipython",
    "version": 3
   },
   "file_extension": ".py",
   "mimetype": "text/x-python",
   "name": "python",
   "nbconvert_exporter": "python",
   "pygments_lexer": "ipython3",
   "version": "3.11.8"
  }
 },
 "nbformat": 4,
 "nbformat_minor": 5
}
