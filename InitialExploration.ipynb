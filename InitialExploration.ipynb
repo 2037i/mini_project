{
 "cells": [
  {
   "cell_type": "markdown",
   "id": "6db1f4b0-c7da-40d8-819a-97abb0f3cca6",
   "metadata": {},
   "source": [
    "# Exploratory Data Analysis\n",
    "\n",
    "We want to achieve a few things in this section\n",
    "1. Find out what each column does, and what values it can take\n",
    "2. List the columns we might find helpful to answer questions\n",
    "3. Plot the distribution of interesting columns (variables)\n",
    "4. Analyse relationships between these variables\n",
    "5. From all of the above, eventually we should come up with a definition of \"success\" for each anime"
   ]
  },
  {
   "cell_type": "markdown",
   "id": "e2f231a8-adb8-4870-a30b-1f55ec0b0d9e",
   "metadata": {},
   "source": [
    "### Essential Libraries\n",
    "\n",
    "Let us begin by importing the essential Python Libraries.\n",
    "\n",
    "> NumPy : Library for Numeric Computations in Python  \n",
    "> Pandas : Library for Data Acquisition and Preparation  \n",
    "> Matplotlib : Low-level library for Data Visualization  \n",
    "> Seaborn : Higher-level library for Data Visualization  "
   ]
  },
  {
   "cell_type": "code",
   "execution_count": null,
   "id": "e3aacbcc-604e-49e9-a022-c0cab07fd86a",
   "metadata": {},
   "outputs": [],
   "source": [
    "# Basic Libraries\n",
    "import numpy as np\n",
    "import pandas as pd\n",
    "import seaborn as sb\n",
    "import matplotlib.pyplot as plt # we only need pyplot\n",
    "sb.set() # set the default Seaborn style for graphics"
   ]
  },
  {
   "cell_type": "markdown",
   "id": "4d6d857d-c9f6-4b4d-a804-c5a50a515104",
   "metadata": {},
   "source": [
    "### Import the Dataset (UserList)\n",
    "\n",
    "The dataset is in CSV format; hence we use the read_csv function from Pandas.  \n",
    "Immediately after importing, take a quick look at the data using the head function."
   ]
  },
  {
   "cell_type": "code",
   "execution_count": null,
   "id": "a3951e79-605c-4ef1-b0be-74d5124de60e",
   "metadata": {},
   "outputs": [],
   "source": [
    "userlist = pd.read_csv('DataSets/Cleaned data/outV1.csv')\n",
    "userlist.head()"
   ]
  },
  {
   "cell_type": "markdown",
   "id": "fdb93710-a019-4576-bbe5-d27dab16e620",
   "metadata": {},
   "source": [
    "### Printing out possible values of categorical variables\n",
    "\n",
    "We are interested in finding out how many types of values there are for the following columns\n",
    "1. Type\n",
    "2. Source\n",
    "3. Status\n",
    "4. Rating"
   ]
  },
  {
   "cell_type": "code",
   "execution_count": null,
   "id": "db0f5a33-1b76-4c5e-853b-715048a5a146",
   "metadata": {},
   "outputs": [],
   "source": [
    "# Filtering the Type column\n",
    "type_unique_values = userlist['type'].unique()\n",
    "\n",
    "# Print the unique values for Type\n",
    "print(\"Unique values for Type:\")\n",
    "for value in type_unique_values:\n",
    "    print(value)\n",
    "print(\"\\n\")\n",
    "\n",
    "# Filtering the Source column\n",
    "source_unique_values = userlist['source'].unique()\n",
    "\n",
    "# Print the unique values for Source\n",
    "print(\"Unique values for source:\")\n",
    "for value in source_unique_values:\n",
    "    print(value)\n",
    "print(\"\\n\")\n",
    "\n",
    "# Filtering the Status column\n",
    "status_unique_values = userlist['status'].unique()\n",
    "\n",
    "# Print the unique values for Status\n",
    "print(\"Unique values for status:\")\n",
    "for value in status_unique_values:\n",
    "    print(value)\n",
    "print(\"\\n\")\n",
    "\n",
    "# Filtering the Rating column\n",
    "rating_unique_values = userlist['rating'].unique()\n",
    "\n",
    "# Print the unique values for Rating\n",
    "print(\"Unique values for rating:\")\n",
    "for value in rating_unique_values:\n",
    "    print(value)\n",
    "print(\"\\n\")\n",
    "\n",
    "# Filtering the Studio column\n",
    "studio_unique_values = userlist['studio'].unique()\n",
    "\n",
    "# Print the unique values for Studio\n",
    "print(\"Unique values for studio:\")\n",
    "for value in studio_unique_values:\n",
    "    print(value)\n",
    "print(\"\\n\")"
   ]
  },
  {
   "cell_type": "markdown",
   "id": "4661cdd2-f13b-4181-9252-9c389b50b3d7",
   "metadata": {},
   "source": [
    "### Printing out range of values for numerical variables\n",
    "\n",
    "We are interested in finding out the minimum and maximum values for the following columns\n",
    "1. Episodes\n",
    "2. Duration\n",
    "3. Score\n",
    "4. Score_by\n",
    "5. Rank\n",
    "6. Popularity\n",
    "7. Members\n",
    "8. Favourites"
   ]
  },
  {
   "cell_type": "code",
   "execution_count": null,
   "id": "f74d9722-0bac-4a14-862c-d94d7c76ae8e",
   "metadata": {},
   "outputs": [],
   "source": [
    "# Filtering the Episodes column\n",
    "episode_minimum_value = userlist['episodes'].min()\n",
    "episode_maximum_value = userlist['episodes'].max()\n",
    "\n",
    "print(\"Minimum value in for episode:\", episode_minimum_value)\n",
    "print(\"Maximum value in for episode:\", episode_maximum_value)\n",
    "print(\"\\n\")\n",
    "\n",
    "# Filtering the Duration column\n",
    "duration_minimum_value = userlist['duration'].min()\n",
    "duration_maximum_value = userlist['duration'].max()\n",
    "\n",
    "print(\"Minimum value in for duration:\", duration_minimum_value)\n",
    "print(\"Maximum value in for duration:\", duration_maximum_value)\n",
    "print(\"\\n\")\n",
    "\n",
    "# Filtering the Score column\n",
    "score_minimum_value = userlist['score'].min()\n",
    "score_maximum_value = userlist['score'].max()\n",
    "\n",
    "print(\"Minimum value in for score:\", score_minimum_value)\n",
    "print(\"Maximum value in for score:\", score_maximum_value)\n",
    "print(\"\\n\")\n",
    "\n",
    "# Filtering the Rank column\n",
    "rank_minimum_value = userlist['rank'].min()\n",
    "rank_maximum_value = userlist['rank'].max()\n",
    "\n",
    "print(\"Minimum value in for rank:\", rank_minimum_value)\n",
    "print(\"Maximum value in for rank:\", rank_maximum_value)\n",
    "print(\"\\n\")\n",
    "\n",
    "# Filtering the Popularity column\n",
    "popularity_minimum_value = userlist['popularity'].min()\n",
    "popularity_maximum_value = userlist['popularity'].max()\n",
    "\n",
    "print(\"Minimum value in for popularity:\", popularity_minimum_value)\n",
    "print(\"Maximum value in for popularity:\", popularity_maximum_value)\n",
    "print(\"\\n\")\n",
    "\n",
    "# Filtering the Members column\n",
    "member_minimum_value = userlist['members'].min()\n",
    "member_maximum_value = userlist['members'].max()\n",
    "\n",
    "print(\"Minimum value in for member:\", member_minimum_value)\n",
    "print(\"Maximum value in for member:\", member_maximum_value)\n",
    "print(\"\\n\")\n",
    "\n",
    "# Filtering the Favourites column\n",
    "favourite_minimum_value = userlist['favorites'].min()\n",
    "favourite_maximum_value = userlist['favorites'].max()\n",
    "\n",
    "print(\"Minimum value in for favourite:\", favourite_minimum_value)\n",
    "print(\"Maximum value in for favourite:\", favourite_maximum_value)"
   ]
  },
  {
   "cell_type": "markdown",
   "id": "ffc95a27-a32c-4936-8428-8a53aba9f404",
   "metadata": {},
   "source": [
    "### Primary Variables to Consider\r\n",
    "\r\n",
    "# Score \r\n",
    "Score is a weighted average of the rating that users give to a particular anime\r\n",
    "It is calculated using the follo winfor::mula\r\n",
    "\r\n",
    "(v / (v + m)) * S + (m / )(  \r",
    ":\n",
    ":Where\r\n",
    "\r\n",
    "S = Average score \r\n",
    "v = Number users giving a score\r\n",
    "m = Minimum number of scored users required to get a calculated score\r\n",
    "C = The mean score across the entire database\r\n",
    "\r\n",
    "S and C are essentially the unweighted averages\r\n",
    "\r\n",
    "# Rank\r\n",
    "\r\n",
    "It is not immediately clear how rank is calculated, perhaps we can run a regression operation to reverse engineer the formula...\r\n",
    "\r\n",
    "# Popularity\r\n",
    "\r\n",
    "This is the number of viewers that watched a particular anime\r\n",
    "\r\n",
    "# Members\r\n",
    "\r\n",
    "This is the number of people who added a particular anime to their list\r\n",
    "\r\n",
    "# Favourites\r\n",
    "\r\n",
    "This is the Nnumber of people who favourited a particular anime\r\n"
   ]
  },
  {
   "cell_type": "markdown",
   "id": "a9f78a17-deda-4ec6-aa90-7d1d5895958c",
   "metadata": {},
   "source": [
    "### Some reverse engineering\n",
    "\n",
    "# Step 1\n",
    "Let us now calculate the correlation coefficients between score, popularity, members and favourites on Rank, in order to eliminate the least relevant variables \n",
    "\n",
    "To intepret the values:\n",
    "> −1 indicates a perfect negative correlation0> \r",
    "> \n",
    "0 indicates no correlaton1> \r\n",
    "1 indicates a perfect positive correlaion."
   ]
  },
  {
   "cell_type": "code",
   "execution_count": null,
   "id": "50c09638-1a5a-41e2-8152-8a23cb58db0b",
   "metadata": {
    "scrolled": true
   },
   "outputs": [],
   "source": [
    "# Calculating correlation coefficient between rank and score \n",
    "rank_vs_score_correlation_coefficient = userlist['rank'].corr(userlist['score'])\n",
    "print(f\"Correlation Coefficient between rank and score: {rank_vs_score_correlation_coefficient}\")\n",
    "print(\"\\n\")\n",
    "\n",
    "# Calculating correlation coefficient between rank and popularity \n",
    "rank_vs_popularity_correlation_coefficient = userlist['rank'].corr(userlist['popularity'])\n",
    "print(f\"Correlation Coefficient between rank and popularity: {rank_vs_popularity_correlation_coefficient}\")\n",
    "print(\"\\n\")\n",
    "\n",
    "# Calculating correlation coefficient between rank and members\n",
    "rank_vs_members_correlation_coefficient = userlist['rank'].corr(userlist['members'])\n",
    "print(f\"Correlation Coefficient between rank and members: {rank_vs_members_correlation_coefficient}\")\n",
    "print(\"\\n\")\n",
    "\n",
    "# Calculating correlation coefficient between rank and favourites\n",
    "rank_vs_favorites_correlation_coefficient = userlist['rank'].corr(userlist['favorites'])\n",
    "print(f\"Correlation Coefficient between rank and favorites: {rank_vs_favorites_correlation_coefficient}\")\n",
    "print(\"\\n\")"
   ]
  },
  {
   "cell_type": "markdown",
   "id": "9ebd2d74-c832-4ac7-afe9-43f5c7f7f46f",
   "metadata": {},
   "source": [
    "Results:\n",
    "Correlation Coefficient between rank and score: -0.6651938263432281\r\n",
    "\r\n",
    "Correlation Coefficient between rank and popularity: 0.70755999120178\r\n",
    "\r\n",
    "\r\n",
    "Correlation Coefficient between rank and members: -0.389765535770357\r\n",
    "\r\n",
    "\r\n",
    "Correlation Coefficient between rank and favorites: -0.18767204\n",
    "\n",
    "From the results above, we can easily eliminate favourites as a variable, given how close its value is to 0\n",
    "Members is also up for consideration for elimination63083836\n"
   ]
  },
  {
   "cell_type": "markdown",
   "id": "bef921bc-abcf-43b1-b089-f7895004790e",
   "metadata": {},
   "source": [
    "# Step 2.1: A first shot at linear regression\n",
    "\n",
    "We will now attempt to use a linear regression model to work out the formula for ranked, using score, popularity and members\n",
    "To do that, we must first split the data into train and test sets\n",
    "\n",
    "Take note that a seed value of 42 was chosen here for reproducibility"
   ]
  },
  {
   "cell_type": "code",
   "execution_count": null,
   "id": "06af0b89-3ad9-4854-829b-aa79b3b88982",
   "metadata": {},
   "outputs": [],
   "source": [
    "from sklearn.model_selection import train_test_split\n",
    "\n",
    "# Predictor_3var contains the features (score, popularity, members) \n",
    "# Response contains the target variable (rank)\n",
    "Predictor_3var = userlist[['score', 'popularity', 'members']]\n",
    "Response = userlist['rank']\n",
    "\n",
    "# Split the data into training and testing sets (80% training, 20% testing) with a seed of 42\n",
    "Predictor_3var_train, Predictor_3var_test, Response_train, Response_test = train_test_split(Predictor_3var, Response, test_size=0.2, random_state=42)"
   ]
  },
  {
   "cell_type": "markdown",
   "id": "b0ea4d74-6963-4dd3-a3b2-76834d4d1e0a",
   "metadata": {},
   "source": [
    "After splitting the data, we create a linear regression model and train it using the train set"
   ]
  },
  {
   "cell_type": "code",
   "execution_count": null,
   "id": "547ba121-38df-4b56-b4a6-ea15d9989bb8",
   "metadata": {},
   "outputs": [],
   "source": [
    "from sklearn.linear_model import LinearRegression\n",
    "\n",
    "# Create and train the linear regression model\n",
    "linear_reg_model_3var = LinearRegression()\n",
    "linear_reg_model_3var.fit(Predictor_3var_train, Response_train)"
   ]
  },
  {
   "cell_type": "markdown",
   "id": "948cf4dd-61d6-41b8-a1f0-9a31f3dee08f",
   "metadata": {},
   "source": [
    "After training, we use the model to predict rank on the test set\n",
    "\n",
    "We then plot the resulting predictions to check if anything looks unusual"
   ]
  },
  {
   "cell_type": "code",
   "execution_count": null,
   "id": "62aa149e-9163-4513-9426-39b0b4163d01",
   "metadata": {},
   "outputs": [],
   "source": [
    "# Predict Rank for the test set\n",
    "Rank_pred_linear_reg_3var = linear_reg_model_3var.predict(Predictor_3var_test)\n",
    "\n",
    "# Plot the Predictions\n",
    "f = plt.figure(figsize=(16, 8))\n",
    "plt.scatter(Response_test, Rank_pred_linear_reg_3var, color = \"red\")\n",
    "plt.show()"
   ]
  },
  {
   "cell_type": "markdown",
   "id": "3d826b27-f74f-4953-b78e-393539595b8c",
   "metadata": {},
   "source": [
    "To get a better evaluation of how effective the model is, we use the following metrics:\n",
    "\n",
    "1. Mean Squared Error (MSE): The average of the squared differences between the predicted values and the actual values\n",
    "2. Root Mean Squared Error (RMSE): A measure of the average magnitude of the errors in the predicted values\n",
    "3. Mean Absolute Error (MAE): The average of the absolute differences between the predicted values and the actual values\n",
    "4. Coefficient of Deterimination (R^2): The proportion of the variance in the target variable that is explained by the model\n",
    "\n",
    "To evalate these metrics:\n",
    "> A lower MSE indicates better performance (0 lowest)\n",
    "> A lower RMSE indicates better performance (0 lowest)\n",
    "> A lower MAE indicates better performance (0 lowest)\n",
    "> A higher R^2 indicates better performance (1 highest)"
   ]
  },
  {
   "cell_type": "code",
   "execution_count": null,
   "id": "47f3228b-af8a-4fe1-885a-d9a086c15257",
   "metadata": {
    "scrolled": true
   },
   "outputs": [],
   "source": [
    "# Calculating mean squared error\n",
    "from sklearn.metrics import mean_squared_error\n",
    "mse_3var = mean_squared_error(Response_test, Rank_pred_linear_reg_3var)\n",
    "print(f\"Mean Squared Error: {mse_3var}\")\n",
    "\n",
    "# Calculaing root mean squared error\n",
    "rmse_3var = mean_squared_error(Response_test, Rank_pred_linear_reg_3var, squared = False)\n",
    "print(f\"Root Mean Squared Error: {rmse_3var}\")\n",
    "\n",
    "# Calculating mean absolute error\n",
    "from sklearn.metrics import mean_absolute_error\n",
    "mae_3var = mean_absolute_error(Response_test, Rank_pred_linear_reg_3var)\n",
    "print(f\"Mean Absolute Error: {mae_3var}\")\n",
    "\n",
    "# Calculating coefficient of determination\n",
    "from sklearn.metrics import r2_score\n",
    "r2_3var = r2_score(Response_test, Rank_pred_linear_reg_3var)\n",
    "print(f\"R-squared Score: {r2_3var}\")"
   ]
  },
  {
   "cell_type": "markdown",
   "id": "70f4cc1f-cfb1-44c4-bbf5-e4042667854a",
   "metadata": {},
   "source": [
    "# Step 2.2: Another crack at linear regression\n",
    "\n",
    "We will now attempt to use a linear regression model to work out the formula for ranked, using only score and popularity\n",
    "To do that, we must first split the data into train and test sets\n",
    "\n",
    "Take note that a seed value of 42 was chosen here for reproducibility"
   ]
  },
  {
   "cell_type": "code",
   "execution_count": null,
   "id": "e3b8b2a8-61b4-4159-b666-9a2f156868d1",
   "metadata": {},
   "outputs": [],
   "source": [
    "from sklearn.model_selection import train_test_split\n",
    "\n",
    "# Predictor contains the features (score and popularity) \n",
    "# Response contains the target variable (rank)\n",
    "Predictor_2var = userlist[['score', 'popularity']]\n",
    "Response = userlist['rank']\n",
    "\n",
    "# Split the data into training and testing sets (80% training, 20% testing) with a seed of 42\n",
    "Predictor_2var_train, Predictor_2var_test, Response_train, Response_test = train_test_split(Predictor_2var, Response, test_size=0.2, random_state=42)"
   ]
  },
  {
   "cell_type": "markdown",
   "id": "d7ec6ac5-c224-47b8-93d3-636f344a9453",
   "metadata": {},
   "source": [
    "After splitting the data, we create a linear regression model and train it using the train set"
   ]
  },
  {
   "cell_type": "code",
   "execution_count": null,
   "id": "3a69fe9a-faa7-4299-a988-2be51d6dc970",
   "metadata": {},
   "outputs": [],
   "source": [
    "from sklearn.linear_model import LinearRegression\n",
    "\n",
    "# Create and train the linear regression model\n",
    "linear_reg_model_2var = LinearRegression()\n",
    "linear_reg_model_2var.fit(Predictor_2var_train, Response_train)"
   ]
  },
  {
   "cell_type": "markdown",
   "id": "e1cc326a-81b1-458b-8217-4dd1a95b5072",
   "metadata": {},
   "source": [
    "After training, we use the model to predict rank on the test set\n",
    "\n",
    "We then plot the resulting predictions to check if anything looks unusual"
   ]
  },
  {
   "cell_type": "code",
   "execution_count": null,
   "id": "c80c014b-d0d0-4e92-b097-c180a9b3301b",
   "metadata": {},
   "outputs": [],
   "source": [
    "# Predict Rank for the test set\n",
    "Rank_pred_linear_reg_2var = linear_reg_model_2var.predict(Predictor_2var_test)\n",
    "\n",
    "# Plot the Predictions\n",
    "f = plt.figure(figsize=(16, 8))\n",
    "plt.scatter(Response_test, Rank_pred_linear_reg_2var, color = \"red\")\n",
    "plt.show()"
   ]
  },
  {
   "cell_type": "markdown",
   "id": "aa8abc0a-b60b-4868-bca9-7f82e6306450",
   "metadata": {},
   "source": [
    "To get a better evaluation of how effective the model is, we use the following metrics:\n",
    "\n",
    "1. Mean Squared Error (MSE): The average of the squared differences between the predicted values and the actual values\n",
    "2. Root Mean Squared Error (RMSE): A measure of the average magnitude of the errors in the predicted values\n",
    "3. Mean Absolute Error (MAE): The average of the absolute differences between the predicted values and the actual values\n",
    "4. Coefficient of Deterimination (R^2): The proportion of the variance in the target variable that is explained by the model\n",
    "\n",
    "To evalate these metrics:\n",
    "> A lower MSE indicates better performance (0 lowest)\n",
    "> A lower RMSE indicates better performance (0 lowest)\n",
    "> A lower MAE indicates better performance (0 lowest)\n",
    "> A higher R^2 indicates better performance (1 highest)"
   ]
  },
  {
   "cell_type": "code",
   "execution_count": null,
   "id": "0a9d0c1f-a857-48e9-88cf-baf18d58e38e",
   "metadata": {},
   "outputs": [],
   "source": [
    "# Calculating mean squared error\n",
    "from sklearn.metrics import mean_squared_error\n",
    "mse_2var = mean_squared_error(Response_test, Rank_pred_linear_reg_2var)\n",
    "print(f\"Mean Squared Error: {mse_2var}\")\n",
    "\n",
    "# Calculaing root mean squared error\n",
    "rmse_2var = mean_squared_error(Response_test, Rank_pred_linear_reg_2var, squared = False)\n",
    "print(f\"Root Mean Squared Error: {rmse_2var}\")\n",
    "\n",
    "# Calculating mean absolute error\n",
    "from sklearn.metrics import mean_absolute_error\n",
    "mae_2var = mean_absolute_error(Response_test, Rank_pred_linear_reg_2var)\n",
    "print(f\"Mean Absolute Error: {mae_2var}\")\n",
    "\n",
    "# Calculating coefficient of determination\n",
    "from sklearn.metrics import r2_score\n",
    "r2_2var = r2_score(Response_test, Rank_pred_linear_reg_2var)\n",
    "print(f\"R-squared Score: {r2_2var}\")"
   ]
  },
  {
   "cell_type": "markdown",
   "id": "8f7e0761-ab34-44f2-ae84-a808c929c1e9",
   "metadata": {},
   "source": [
    "# Evaluating the two models\n",
    "\n",
    "Here are the results for the 3 variable linear regression model:\n",
    "Mean Squared Error: 6269914.252040876\n",
    "Root Mean Squared Error: 2503.979682833085\n",
    "Mean Absolute Error: 1828.7656030377157\n",
    "R-squared Score: 0.6250455051218821\n",
    "\n",
    "And here are the results for the 2 variable model:\n",
    "Mean Squared Error: 6307853.471599364\n",
    "Root Mean Squared Error: 2511.5440413417728\n",
    "Mean Absolute Error: 1827.6968888255014\n",
    "R-squared Score: 0.6227766573619637\n",
    "\n",
    "We can see that they are extremely close, with R^2 scores only differing by around 0.0022. This shows that Members is indeed not a very helpful metric for determining Rank, so it can be safely removed"
   ]
  },
  {
   "cell_type": "markdown",
   "id": "32f5d7c3-c713-4034-bd44-16729049132c",
   "metadata": {},
   "source": [
    "# Retrieving the formula\n",
    "\n",
    "Now that we have our chosen model, let us retrieve the exact coefficients and intercepts that were used to generate it"
   ]
  },
  {
   "cell_type": "code",
   "execution_count": null,
   "id": "5aff62a0-26c5-4680-ab9a-b442f9a5af95",
   "metadata": {},
   "outputs": [],
   "source": [
    "# Retrieve the coefficients and intercept\n",
    "coefficients_2var = linear_reg_model_2var.coef_\n",
    "intercept_2var = linear_reg_model_2var.intercept_\n",
    "\n",
    "# Construct the formula\n",
    "formula = f\"Rank = {intercept_2var:.2f} + \"\n",
    "for i, coef in enumerate(coefficients_2var):\n",
    "    formula += f\"({coef:.2f} * Predictor_{i+1}) + \"\n",
    "\n",
    "# Remove the trailing '+' and whitespace\n",
    "formula = formula[:-3]\n",
    "\n",
    "print(\"Formula:\", formula)"
   ]
  },
  {
   "cell_type": "markdown",
   "id": "d67b009f-cd5f-4680-835f-f2e51b1e5353",
   "metadata": {},
   "source": [
    "We can this see that:\n",
    "Rank = 10629.83 + (-1127.91 * Score) + (0.48 * Popularity)"
   ]
  },
  {
   "cell_type": "markdown",
   "id": "3fed0a6a-a556-4db3-b7ec-1305d2d69716",
   "metadata": {},
   "source": [
    "# Step 3.1: Let's try polynomial regression\n",
    "\n",
    "A polynomial regression is able to capture more complex patterns in the data. Maybe that will help us predict Rank better?\n",
    "\n",
    "We will be re-using the previous train and test sets, Predictor_2var and Response, except they will now be converted into polynomial features"
   ]
  },
  {
   "cell_type": "code",
   "execution_count": null,
   "id": "ed0f07bf-c1ae-4fe9-b695-306bb321ed64",
   "metadata": {},
   "outputs": [],
   "source": [
    "from sklearn.preprocessing import PolynomialFeatures\n",
    "\n",
    "# Set the degree of the polynomial\n",
    "degree = 2  \n",
    "\n",
    "# Conversion of Predictor_2var_train into polynomial feature\n",
    "poly2_features = PolynomialFeatures(degree=degree)\n",
    "Predictor_2var_poly2 = poly2_features.fit_transform(Predictor_2var_train)\n",
    "\n",
    "# Conversion of Predictor_2var_test into polynomial feature\n",
    "Predictor_2var_test_poly2 = poly2_features.transform(Predictor_2var_test)"
   ]
  },
  {
   "cell_type": "markdown",
   "id": "a49e95f5-34db-4ffd-a1d3-2d0f8e04ec3c",
   "metadata": {},
   "source": [
    "We can then train the model using said polynomial features, and use it to make predictions on the training set for Rank"
   ]
  },
  {
   "cell_type": "code",
   "execution_count": null,
   "id": "1dfb1633-1919-40c5-8919-206f0714b660",
   "metadata": {},
   "outputs": [],
   "source": [
    "# Training the model\n",
    "poly2_model = LinearRegression()\n",
    "poly2_model.fit(Predictor_2var_poly2, Response_train)\n",
    "\n",
    "# Predict Rank for test set\n",
    "Rank_pred_poly2_model = poly2_model.predict(Predictor_2var_test_poly2)"
   ]
  },
  {
   "cell_type": "markdown",
   "id": "3a37059f-caa5-48b1-899f-c4c7156223c6",
   "metadata": {},
   "source": [
    "We then plot the resulting predictions to check if anything looks unusual"
   ]
  },
  {
   "cell_type": "code",
   "execution_count": null,
   "id": "e52774a9-01ac-4e36-a9fc-4cbb270669bc",
   "metadata": {
    "scrolled": true
   },
   "outputs": [],
   "source": [
    "# Plotting the predictions\n",
    "f = plt.figure(figsize=(16, 8))\n",
    "plt.plot(Predictor_2var_test, Rank_pred_poly2_model, color='red', label='Polynomial Regression')\n",
    "plt.show()"
   ]
  },
  {
   "cell_type": "markdown",
   "id": "cca54359-d486-4a5f-9ecc-2fd2c02384db",
   "metadata": {},
   "source": [
    "Now that we have the model, let us use the same metrics\n",
    "\n",
    "1. Mean Squared Error (MSE): The average of the squared differences between the predicted values and the actual values\n",
    "2. Root Mean Squared Error (RMSE): A measure of the average magnitude of the errors in the predicted values\n",
    "3. Mean Absolute Error (MAE): The average of the absolute differences between the predicted values and the actual values\n",
    "4. Coefficient of Deterimination (R^2): The proportion of the variance in the target variable that is explained by the model\n",
    "\n",
    "To calculate how good it is at predicting Rank"
   ]
  },
  {
   "cell_type": "code",
   "execution_count": null,
   "id": "df010e6a-1065-4514-a166-bbbbadaf69d8",
   "metadata": {},
   "outputs": [],
   "source": [
    "# Calculating mean squared error\n",
    "from sklearn.metrics import mean_squared_error\n",
    "mse_poly2 = mean_squared_error(Response_test, Rank_pred_poly2_model)\n",
    "print(f\"Mean Squared Error: {mse_poly2}\")\n",
    "\n",
    "# Calculaing root mean squared error\n",
    "rmse_poly2 = mean_squared_error(Response_test, Rank_pred_poly2_model, squared = False)\n",
    "print(f\"Root Mean Squared Error: {rmse_poly2}\")\n",
    "\n",
    "# Calculating mean absolute error\n",
    "from sklearn.metrics import mean_absolute_error\n",
    "mae_poly2 = mean_absolute_error(Response_test, Rank_pred_poly2_model)\n",
    "print(f\"Mean Absolute Error: {mae_poly2}\")\n",
    "\n",
    "# Calculating coefficient of determination\n",
    "from sklearn.metrics import r2_score\n",
    "r2_poly2 = r2_score(Response_test, Rank_pred_poly2_model)\n",
    "print(f\"R-squared Score: {r2_poly2}\")"
   ]
  },
  {
   "cell_type": "markdown",
   "id": "9bd12628-3af6-448a-a65a-218d8d423c69",
   "metadata": {},
   "source": [
    "The results are in!\n",
    "\n",
    "Remember, this is what we got for the 2 variable linear regression:\n",
    "Mean Squared Error: 6307853.471599364\n",
    "Root Mean Squared Error: 2511.5440413417728\n",
    "Mean Absolute Error: 1827.6968888255014\n",
    "R-squared Score: 0.6227766573619637\n",
    "\n",
    "And this is what we get without polynomial regression, with degree 2:\n",
    "Mean Squared Error: 5319071.671615491\r\n",
    "Root Mean Squared Error: 2306.3112694550773\r\n",
    "Mean Absolute Error: 1590.2145713248253\r\n",
    "R-squared Score: 0.6819079573214\n",
    "\n",
    "We can see that the results have improved somewhat, with R^2 jumping up by around 0.06 points408"
   ]
  },
  {
   "cell_type": "markdown",
   "id": "e383d92c-b3d3-4f24-a3e0-1d5aa9c0bcdb",
   "metadata": {},
   "source": [
    "# Step 3.1: Let's try polynomial regression with a higher degree\n",
    "\n",
    "A higher degree is able to capture even more information. Maybe that will help us predict Rank even better\n",
    "\n",
    "We will be re-using the previous train and test sets, Predictor_2var and Response, except they will now be converted into polynomial features"
   ]
  },
  {
   "cell_type": "code",
   "execution_count": null,
   "id": "2c8d6cf8-39cb-4c12-8fa8-b889d427d2f1",
   "metadata": {},
   "outputs": [],
   "source": [
    "from sklearn.preprocessing import PolynomialFeatures\n",
    "\n",
    "# Set the degree of the polynomial\n",
    "degree = 3  \n",
    "\n",
    "# Conversion of Predictor_2var_train into polynomial feature\n",
    "poly3_features = PolynomialFeatures(degree=degree)\n",
    "Predictor_2var_poly3 = poly3_features.fit_transform(Predictor_2var_train)\n",
    "\n",
    "# Conversion of Predictor_2var_test into polynomial feature\n",
    "Predictor_2var_test_poly3 = poly3_features.transform(Predictor_2var_test)"
   ]
  },
  {
   "cell_type": "markdown",
   "id": "ae6f02ae-ea11-4df9-acfe-3d212d76039d",
   "metadata": {},
   "source": [
    "We can then train the model using said polynomial features, and use it to make predictions on the training set for Rank"
   ]
  },
  {
   "cell_type": "code",
   "execution_count": null,
   "id": "f1d93d6f-92b8-49ca-b795-12f5801d108a",
   "metadata": {},
   "outputs": [],
   "source": [
    "# Training the model\n",
    "poly3_model = LinearRegression()\n",
    "poly3_model.fit(Predictor_2var_poly3, Response_train)\n",
    "\n",
    "# Predict Rank for test set\n",
    "Rank_pred_poly3_model = poly3_model.predict(Predictor_2var_test_poly3)"
   ]
  },
  {
   "cell_type": "markdown",
   "id": "085b07a9-d83b-4f22-ad6d-54c473b1ffa2",
   "metadata": {},
   "source": [
    "We then plot the resulting predictions to check if anything looks unusual"
   ]
  },
  {
   "cell_type": "code",
   "execution_count": null,
   "id": "562e53c7-8bb6-4b3c-911b-4285e5ee727d",
   "metadata": {
    "scrolled": true
   },
   "outputs": [],
   "source": [
    "# Plotting the predictions\n",
    "f = plt.figure(figsize=(16, 8))\n",
    "plt.plot(Predictor_2var_test, Rank_pred_poly3_model, color='red', label='Polynomial Regression')\n",
    "plt.show()"
   ]
  },
  {
   "cell_type": "markdown",
   "id": "b6758203-57ba-4b24-914b-7c178d06f6db",
   "metadata": {},
   "source": [
    "Now that we have the model, let us use the same metrics\n",
    "\n",
    "1. Mean Squared Error (MSE): The average of the squared differences between the predicted values and the actual values\n",
    "2. Root Mean Squared Error (RMSE): A measure of the average magnitude of the errors in the predicted values\n",
    "3. Mean Absolute Error (MAE): The average of the absolute differences between the predicted values and the actual values\n",
    "4. Coefficient of Deterimination (R^2): The proportion of the variance in the target variable that is explained by the model\n",
    "\n",
    "To calculate how good it is at predicting Rank"
   ]
  },
  {
   "cell_type": "code",
   "execution_count": null,
   "id": "e945fca7-414c-43cf-8cdf-26472a2a8de8",
   "metadata": {},
   "outputs": [],
   "source": [
    "# Calculating mean squared error\n",
    "from sklearn.metrics import mean_squared_error\n",
    "mse_poly3 = mean_squared_error(Response_test, Rank_pred_poly3_model)\n",
    "print(f\"Mean Squared Error: {mse_poly3}\")\n",
    "\n",
    "# Calculaing root mean squared error\n",
    "rmse_poly3 = mean_squared_error(Response_test, Rank_pred_poly3_model, squared = False)\n",
    "print(f\"Root Mean Squared Error: {rmse_poly3}\")\n",
    "\n",
    "# Calculating mean absolute error\n",
    "from sklearn.metrics import mean_absolute_error\n",
    "mae_poly3 = mean_absolute_error(Response_test, Rank_pred_poly3_model)\n",
    "print(f\"Mean Absolute Error: {mae_poly3}\")\n",
    "\n",
    "# Calculating coefficient of determination\n",
    "from sklearn.metrics import r2_score\n",
    "r2_poly3 = r2_score(Response_test, Rank_pred_poly3_model)\n",
    "print(f\"R-squared Score: {r2_poly3}\")"
   ]
  },
  {
   "cell_type": "markdown",
   "id": "bed26057-abe0-443a-a1d7-885ff0aee933",
   "metadata": {},
   "source": [
    "The results are in!\n",
    "\n",
    "Remember, this is what we got for the 2 variable linear regression:\n",
    "Mean Squared Error: 6307853.471599364\n",
    "Root Mean Squared Error: 2511.5440413417728\n",
    "Mean Absolute Error: 1827.6968888255014\n",
    "R-squared Score: 0.6227766573619637\n",
    "\n",
    "And this is what we get without polynomial regression, with degree 3:\n",
    "Mean Squared Error: 4852202.752170597\r\n",
    "Root Mean Squared Error: 2202.771606901314\r\n",
    "Mean Absolute Error: 1550.076935413968\r\n",
    "R-squared Score: 0.7098277330676199214\n",
    "\n",
    "We can see that the s have improved, albeit marginally. The improvement is still better than going from 2 variable linear regression to 3 variable linear regression (0.2 compared to 0.0022), so it is worthwhile to keep the power at 3. Any more, though, and the model might become susceptible to overfitting. nts408"
   ]
  },
  {
   "cell_type": "markdown",
   "id": "a233a381-6328-4dd1-b903-b14c5782b879",
   "metadata": {},
   "source": [
    "# Retrieving the formula\n",
    "\n",
    "Now that we have our polynomial model, let us retrieve the exact coefficients and intercepts that were used to generate it also"
   ]
  },
  {
   "cell_type": "code",
   "execution_count": null,
   "id": "dc31da67-3444-4d5f-b78e-1084eaa7628b",
   "metadata": {},
   "outputs": [],
   "source": [
    "# Assuming 'model' is the trained polynomial regression model\n",
    "\n",
    "# Extract coefficients and intercept\n",
    "coefficients_poly3 = poly3_model.coef_\n",
    "intercept_poly3 = poly3_model.intercept_\n",
    "\n",
    "# Construct the formula\n",
    "formula = f'y = {intercept_poly3:.2f}'\n",
    "for i, coef in enumerate(coefficients_poly3):\n",
    "    formula += f' + {coef:.2f} * x^{i+1}'\n",
    "\n",
    "print(\"Formula:\", formula)"
   ]
  },
  {
   "cell_type": "markdown",
   "id": "c29b43d8-cf30-45e9-a32f-e8638f07a7b5",
   "metadata": {},
   "source": [
    "We can this see that:\n",
    "Rank = 5009.94 + 2224.53 * x^2 + 3.10 * x^3 + -316.36 * x^4 + -0.50 * x^5 + -4.92 * x^7 + 0.02 * x^8"
   ]
  }
 ],
 "metadata": {
  "kernelspec": {
   "display_name": "Python 3 (ipykernel)",
   "language": "python",
   "name": "python3"
  },
  "language_info": {
   "codemirror_mode": {
    "name": "ipython",
    "version": 3
   },
   "file_extension": ".py",
   "mimetype": "text/x-python",
   "name": "python",
   "nbconvert_exporter": "python",
   "pygments_lexer": "ipython3",
   "version": "3.11.7"
  }
 },
 "nbformat": 4,
 "nbformat_minor": 5
}
